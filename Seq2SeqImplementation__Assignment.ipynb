{
  "nbformat": 4,
  "nbformat_minor": 0,
  "metadata": {
    "accelerator": "GPU",
    "colab": {
      "name": "Seq2SeqImplementation__Assignment.ipynb",
      "provenance": [],
      "collapsed_sections": []
    },
    "kernelspec": {
      "display_name": "Python 3",
      "language": "python",
      "name": "python3"
    },
    "language_info": {
      "codemirror_mode": {
        "name": "ipython",
        "version": 3
      },
      "file_extension": ".py",
      "mimetype": "text/x-python",
      "name": "python",
      "nbconvert_exporter": "python",
      "pygments_lexer": "ipython3",
      "version": "3.8.3"
    }
  },
  "cells": [
    {
      "cell_type": "markdown",
      "metadata": {
        "id": "fwPL0hIlGKoA"
      },
      "source": [
        "# <font color='red'>**Sequence to sequence implementation**</font>"
      ]
    },
    {
      "cell_type": "markdown",
      "metadata": {
        "id": "IvNSZXNkkOkO"
      },
      "source": [
        "1. Download the **Italian** to **English** translation dataset from <a href=\"http://www.manythings.org/anki/ita-eng.zip\">here</a>\n",
        "\n",
        "2. You will find **ita.txt** file in that ZIP, \n",
        "you can read that data using python and preprocess that data this way only: \n",
        "<img src='https://i.imgur.com/z0j79Jf.png'>    \n",
        "    \n",
        "3. Implement a simple Encoder and Decoder architecture  \n",
        "\n",
        "4.  BLEU score as metric to evaluate your model.\n",
        "\n",
        "5. Use Tensorboard to plot the Graph, Scores and histograms of gradients. \n",
        "\n",
        "    \n",
        "\n"
      ]
    },
    {
      "cell_type": "markdown",
      "metadata": {
        "id": "3k_AlAuKJqVA"
      },
      "source": [
        "<font color='blue'>**Load the data**</font>"
      ]
    },
    {
      "cell_type": "code",
      "metadata": {
        "colab": {
          "base_uri": "https://localhost:8080/",
          "height": 0
        },
        "id": "fU80Ao-AGaob",
        "outputId": "7d78a69c-3fc9-476b-86df-4d4e8c2296ea"
      },
      "source": [
        "!wget http://www.manythings.org/anki/ita-eng.zip"
      ],
      "execution_count": 1,
      "outputs": [
        {
          "output_type": "stream",
          "name": "stdout",
          "text": [
            "--2022-01-24 19:51:40--  http://www.manythings.org/anki/ita-eng.zip\n",
            "Resolving www.manythings.org (www.manythings.org)... 104.21.92.44, 172.67.186.54, 2606:4700:3030::6815:5c2c, ...\n",
            "Connecting to www.manythings.org (www.manythings.org)|104.21.92.44|:80... connected.\n",
            "HTTP request sent, awaiting response... 200 OK\n",
            "Length: 7757958 (7.4M) [application/zip]\n",
            "Saving to: ‘ita-eng.zip’\n",
            "\n",
            "ita-eng.zip         100%[===================>]   7.40M  40.3MB/s    in 0.2s    \n",
            "\n",
            "2022-01-24 19:51:41 (40.3 MB/s) - ‘ita-eng.zip’ saved [7757958/7757958]\n",
            "\n"
          ]
        }
      ]
    },
    {
      "cell_type": "code",
      "metadata": {
        "colab": {
          "base_uri": "https://localhost:8080/",
          "height": 0
        },
        "id": "BCj1KriwtYFs",
        "outputId": "7e6ad15a-5235-47da-fb83-57bfef4334c5"
      },
      "source": [
        "!unzip ita-eng.zip"
      ],
      "execution_count": 2,
      "outputs": [
        {
          "output_type": "stream",
          "name": "stdout",
          "text": [
            "Archive:  ita-eng.zip\n",
            "  inflating: ita.txt                 \n",
            "  inflating: _about.txt              \n"
          ]
        }
      ]
    },
    {
      "cell_type": "markdown",
      "metadata": {
        "id": "vmGWTdRmKRph"
      },
      "source": [
        "<font color='blue'>**Preprocess data**</font>"
      ]
    },
    {
      "cell_type": "code",
      "metadata": {
        "colab": {
          "base_uri": "https://localhost:8080/",
          "height": 0
        },
        "id": "9QqElB_nKZos",
        "outputId": "d308d210-c05e-4d70-8e78-e015a3d596dc"
      },
      "source": [
        "!wget https://www.dropbox.com/s/ddkmtqz01jc024u/glove.6B.100d.txt"
      ],
      "execution_count": 3,
      "outputs": [
        {
          "output_type": "stream",
          "name": "stdout",
          "text": [
            "--2022-01-24 19:52:10--  https://www.dropbox.com/s/ddkmtqz01jc024u/glove.6B.100d.txt\n",
            "Resolving www.dropbox.com (www.dropbox.com)... 162.125.3.18, 2620:100:601b:18::a27d:812\n",
            "Connecting to www.dropbox.com (www.dropbox.com)|162.125.3.18|:443... connected.\n",
            "HTTP request sent, awaiting response... 301 Moved Permanently\n",
            "Location: /s/raw/ddkmtqz01jc024u/glove.6B.100d.txt [following]\n",
            "--2022-01-24 19:52:10--  https://www.dropbox.com/s/raw/ddkmtqz01jc024u/glove.6B.100d.txt\n",
            "Reusing existing connection to www.dropbox.com:443.\n",
            "HTTP request sent, awaiting response... 302 Found\n",
            "Location: https://uc20ceb1fdda04cf0b28c6f4b3b0.dl.dropboxusercontent.com/cd/0/inline/Bea7Lw19yPlapn-6NTbzouZB8yDNROdQiPpVIRYwI4bs-QD1m2xRh-rxY37MmZKdptn7kCoGpln5fAlSqIx2YLptp8UzSCRoGPa_IqkRMnxcceYUnG_6OTxicgB0zq52yPi2FvSXmWFiSUlvGgtKYa5d/file# [following]\n",
            "--2022-01-24 19:52:10--  https://uc20ceb1fdda04cf0b28c6f4b3b0.dl.dropboxusercontent.com/cd/0/inline/Bea7Lw19yPlapn-6NTbzouZB8yDNROdQiPpVIRYwI4bs-QD1m2xRh-rxY37MmZKdptn7kCoGpln5fAlSqIx2YLptp8UzSCRoGPa_IqkRMnxcceYUnG_6OTxicgB0zq52yPi2FvSXmWFiSUlvGgtKYa5d/file\n",
            "Resolving uc20ceb1fdda04cf0b28c6f4b3b0.dl.dropboxusercontent.com (uc20ceb1fdda04cf0b28c6f4b3b0.dl.dropboxusercontent.com)... 162.125.3.15, 2620:100:601b:15::a27d:80f\n",
            "Connecting to uc20ceb1fdda04cf0b28c6f4b3b0.dl.dropboxusercontent.com (uc20ceb1fdda04cf0b28c6f4b3b0.dl.dropboxusercontent.com)|162.125.3.15|:443... connected.\n",
            "HTTP request sent, awaiting response... 200 OK\n",
            "Length: 347116733 (331M) [text/plain]\n",
            "Saving to: ‘glove.6B.100d.txt’\n",
            "\n",
            "glove.6B.100d.txt   100%[===================>] 331.04M  69.1MB/s    in 4.8s    \n",
            "\n",
            "2022-01-24 19:52:16 (69.0 MB/s) - ‘glove.6B.100d.txt’ saved [347116733/347116733]\n",
            "\n"
          ]
        }
      ]
    },
    {
      "cell_type": "code",
      "metadata": {
        "id": "dXdcVHle9XpA"
      },
      "source": [
        "import matplotlib.pyplot as plt\n",
        "%matplotlib inline\n",
        "import pandas as pd\n",
        "import re\n",
        "import tensorflow as tf\n",
        "from tensorflow.keras.layers import Embedding, LSTM, Dense\n",
        "from tensorflow.keras.models import Model\n",
        "from tensorflow.keras.preprocessing.text import Tokenizer\n",
        "from tensorflow.keras.preprocessing.sequence import pad_sequences\n",
        "import numpy as np\n",
        "from tensorflow.keras.callbacks import ModelCheckpoint,TensorBoard,ReduceLROnPlateau,EarlyStopping\n",
        "import nltk.translate.bleu_score as bleu\n",
        "from tqdm import tqdm\n",
        "import random\n",
        "from nltk.translate import bleu_score"
      ],
      "execution_count": 4,
      "outputs": []
    },
    {
      "cell_type": "code",
      "metadata": {
        "colab": {
          "base_uri": "https://localhost:8080/",
          "height": 224
        },
        "id": "YvfwFa7c9iQq",
        "outputId": "b921d380-bcc5-4b15-fc90-60aa694fbaec"
      },
      "source": [
        "with open('ita.txt', 'r', encoding=\"utf8\") as f:\n",
        "    eng=[]\n",
        "    ita=[]\n",
        "    for i in f.readlines():\n",
        "        eng.append(i.split(\"\\t\")[0])\n",
        "        ita.append(i.split(\"\\t\")[1])\n",
        "data = pd.DataFrame(data=list(zip(eng, ita)), columns=['english','italian'])\n",
        "print(data.shape)\n",
        "data.head()"
      ],
      "execution_count": 5,
      "outputs": [
        {
          "output_type": "stream",
          "name": "stdout",
          "text": [
            "(353281, 2)\n"
          ]
        },
        {
          "output_type": "execute_result",
          "data": {
            "text/html": [
              "\n",
              "  <div id=\"df-9680cb6f-17ff-4d62-ac21-3b5d3846c026\">\n",
              "    <div class=\"colab-df-container\">\n",
              "      <div>\n",
              "<style scoped>\n",
              "    .dataframe tbody tr th:only-of-type {\n",
              "        vertical-align: middle;\n",
              "    }\n",
              "\n",
              "    .dataframe tbody tr th {\n",
              "        vertical-align: top;\n",
              "    }\n",
              "\n",
              "    .dataframe thead th {\n",
              "        text-align: right;\n",
              "    }\n",
              "</style>\n",
              "<table border=\"1\" class=\"dataframe\">\n",
              "  <thead>\n",
              "    <tr style=\"text-align: right;\">\n",
              "      <th></th>\n",
              "      <th>english</th>\n",
              "      <th>italian</th>\n",
              "    </tr>\n",
              "  </thead>\n",
              "  <tbody>\n",
              "    <tr>\n",
              "      <th>0</th>\n",
              "      <td>Hi.</td>\n",
              "      <td>Ciao!</td>\n",
              "    </tr>\n",
              "    <tr>\n",
              "      <th>1</th>\n",
              "      <td>Hi.</td>\n",
              "      <td>Ciao.</td>\n",
              "    </tr>\n",
              "    <tr>\n",
              "      <th>2</th>\n",
              "      <td>Run!</td>\n",
              "      <td>Corri!</td>\n",
              "    </tr>\n",
              "    <tr>\n",
              "      <th>3</th>\n",
              "      <td>Run!</td>\n",
              "      <td>Corra!</td>\n",
              "    </tr>\n",
              "    <tr>\n",
              "      <th>4</th>\n",
              "      <td>Run!</td>\n",
              "      <td>Correte!</td>\n",
              "    </tr>\n",
              "  </tbody>\n",
              "</table>\n",
              "</div>\n",
              "      <button class=\"colab-df-convert\" onclick=\"convertToInteractive('df-9680cb6f-17ff-4d62-ac21-3b5d3846c026')\"\n",
              "              title=\"Convert this dataframe to an interactive table.\"\n",
              "              style=\"display:none;\">\n",
              "        \n",
              "  <svg xmlns=\"http://www.w3.org/2000/svg\" height=\"24px\"viewBox=\"0 0 24 24\"\n",
              "       width=\"24px\">\n",
              "    <path d=\"M0 0h24v24H0V0z\" fill=\"none\"/>\n",
              "    <path d=\"M18.56 5.44l.94 2.06.94-2.06 2.06-.94-2.06-.94-.94-2.06-.94 2.06-2.06.94zm-11 1L8.5 8.5l.94-2.06 2.06-.94-2.06-.94L8.5 2.5l-.94 2.06-2.06.94zm10 10l.94 2.06.94-2.06 2.06-.94-2.06-.94-.94-2.06-.94 2.06-2.06.94z\"/><path d=\"M17.41 7.96l-1.37-1.37c-.4-.4-.92-.59-1.43-.59-.52 0-1.04.2-1.43.59L10.3 9.45l-7.72 7.72c-.78.78-.78 2.05 0 2.83L4 21.41c.39.39.9.59 1.41.59.51 0 1.02-.2 1.41-.59l7.78-7.78 2.81-2.81c.8-.78.8-2.07 0-2.86zM5.41 20L4 18.59l7.72-7.72 1.47 1.35L5.41 20z\"/>\n",
              "  </svg>\n",
              "      </button>\n",
              "      \n",
              "  <style>\n",
              "    .colab-df-container {\n",
              "      display:flex;\n",
              "      flex-wrap:wrap;\n",
              "      gap: 12px;\n",
              "    }\n",
              "\n",
              "    .colab-df-convert {\n",
              "      background-color: #E8F0FE;\n",
              "      border: none;\n",
              "      border-radius: 50%;\n",
              "      cursor: pointer;\n",
              "      display: none;\n",
              "      fill: #1967D2;\n",
              "      height: 32px;\n",
              "      padding: 0 0 0 0;\n",
              "      width: 32px;\n",
              "    }\n",
              "\n",
              "    .colab-df-convert:hover {\n",
              "      background-color: #E2EBFA;\n",
              "      box-shadow: 0px 1px 2px rgba(60, 64, 67, 0.3), 0px 1px 3px 1px rgba(60, 64, 67, 0.15);\n",
              "      fill: #174EA6;\n",
              "    }\n",
              "\n",
              "    [theme=dark] .colab-df-convert {\n",
              "      background-color: #3B4455;\n",
              "      fill: #D2E3FC;\n",
              "    }\n",
              "\n",
              "    [theme=dark] .colab-df-convert:hover {\n",
              "      background-color: #434B5C;\n",
              "      box-shadow: 0px 1px 3px 1px rgba(0, 0, 0, 0.15);\n",
              "      filter: drop-shadow(0px 1px 2px rgba(0, 0, 0, 0.3));\n",
              "      fill: #FFFFFF;\n",
              "    }\n",
              "  </style>\n",
              "\n",
              "      <script>\n",
              "        const buttonEl =\n",
              "          document.querySelector('#df-9680cb6f-17ff-4d62-ac21-3b5d3846c026 button.colab-df-convert');\n",
              "        buttonEl.style.display =\n",
              "          google.colab.kernel.accessAllowed ? 'block' : 'none';\n",
              "\n",
              "        async function convertToInteractive(key) {\n",
              "          const element = document.querySelector('#df-9680cb6f-17ff-4d62-ac21-3b5d3846c026');\n",
              "          const dataTable =\n",
              "            await google.colab.kernel.invokeFunction('convertToInteractive',\n",
              "                                                     [key], {});\n",
              "          if (!dataTable) return;\n",
              "\n",
              "          const docLinkHtml = 'Like what you see? Visit the ' +\n",
              "            '<a target=\"_blank\" href=https://colab.research.google.com/notebooks/data_table.ipynb>data table notebook</a>'\n",
              "            + ' to learn more about interactive tables.';\n",
              "          element.innerHTML = '';\n",
              "          dataTable['output_type'] = 'display_data';\n",
              "          await google.colab.output.renderOutput(dataTable, element);\n",
              "          const docLink = document.createElement('div');\n",
              "          docLink.innerHTML = docLinkHtml;\n",
              "          element.appendChild(docLink);\n",
              "        }\n",
              "      </script>\n",
              "    </div>\n",
              "  </div>\n",
              "  "
            ],
            "text/plain": [
              "  english   italian\n",
              "0     Hi.     Ciao!\n",
              "1     Hi.     Ciao.\n",
              "2    Run!    Corri!\n",
              "3    Run!    Corra!\n",
              "4    Run!  Correte!"
            ]
          },
          "metadata": {},
          "execution_count": 5
        }
      ]
    },
    {
      "cell_type": "code",
      "metadata": {
        "colab": {
          "base_uri": "https://localhost:8080/",
          "height": 206
        },
        "id": "sH4Tfl3g9lRB",
        "outputId": "953392fc-b947-4e09-cbd5-2173af1cc9ac"
      },
      "source": [
        "def decontractions(phrase):\n",
        "    \"\"\"decontracted takes text and convert contractions into natural form.\n",
        "     ref: https://stackoverflow.com/questions/19790188/expanding-english-language-contractions-in-python/47091490#47091490\"\"\"\n",
        "    # specific\n",
        "    phrase = re.sub(r\"won\\'t\", \"will not\", phrase)\n",
        "    phrase = re.sub(r\"can\\'t\", \"can not\", phrase)\n",
        "    phrase = re.sub(r\"won\\’t\", \"will not\", phrase)\n",
        "    phrase = re.sub(r\"can\\’t\", \"can not\", phrase)\n",
        "\n",
        "    # general\n",
        "    phrase = re.sub(r\"n\\'t\", \" not\", phrase)\n",
        "    phrase = re.sub(r\"\\'re\", \" are\", phrase)\n",
        "    phrase = re.sub(r\"\\'s\", \" is\", phrase)\n",
        "    phrase = re.sub(r\"\\'d\", \" would\", phrase)\n",
        "    phrase = re.sub(r\"\\'ll\", \" will\", phrase)\n",
        "    phrase = re.sub(r\"\\'t\", \" not\", phrase)\n",
        "    phrase = re.sub(r\"\\'ve\", \" have\", phrase)\n",
        "    phrase = re.sub(r\"\\'m\", \" am\", phrase)\n",
        "\n",
        "    phrase = re.sub(r\"n\\’t\", \" not\", phrase)\n",
        "    phrase = re.sub(r\"\\’re\", \" are\", phrase)\n",
        "    phrase = re.sub(r\"\\’s\", \" is\", phrase)\n",
        "    phrase = re.sub(r\"\\’d\", \" would\", phrase)\n",
        "    phrase = re.sub(r\"\\’ll\", \" will\", phrase)\n",
        "    phrase = re.sub(r\"\\’t\", \" not\", phrase)\n",
        "    phrase = re.sub(r\"\\’ve\", \" have\", phrase)\n",
        "    phrase = re.sub(r\"\\’m\", \" am\", phrase)\n",
        "\n",
        "    return phrase\n",
        "\n",
        "def preprocess(text):\n",
        "    # convert all the text into lower letters\n",
        "    # use this function to remove the contractions: https://gist.github.com/anandborad/d410a49a493b56dace4f814ab5325bbd\n",
        "    # remove all the spacial characters: except space ' '\n",
        "    text = text.lower()\n",
        "    text = decontractions(text)\n",
        "    text = re.sub('[^A-Za-z0-9 ]+', '', text)\n",
        "    return text\n",
        "\n",
        "def preprocess_ita(text):\n",
        "    # convert all the text into lower letters\n",
        "    # remove the words betweent brakets ()\n",
        "    # remove these characters: {'$', ')', '?', '\"', '’', '.',  '°', '!', ';', '/', \"'\", '€', '%', ':', ',', '('}\n",
        "    # replace these spl characters with space: '\\u200b', '\\xa0', '-', '/'\n",
        "    # I have found these characters after observing the data points, feel free to explore more and see if you can do find more\n",
        "    # you are free to do more proprocessing\n",
        "    # note that the model will learn better with better preprocessed data \n",
        "    \n",
        "    text = text.lower()\n",
        "    text = decontractions(text)\n",
        "    text = re.sub('[$)\\?\"’.°!;\\'€%:,(/]', '', text)\n",
        "    text = re.sub('\\u200b', ' ', text)\n",
        "    text = re.sub('\\xa0', ' ', text)\n",
        "    text = re.sub('-', ' ', text)\n",
        "    return text\n",
        "\n",
        "\n",
        "data['english'] = data['english'].apply(preprocess)\n",
        "data['italian'] = data['italian'].apply(preprocess_ita)\n",
        "data.head()"
      ],
      "execution_count": 6,
      "outputs": [
        {
          "output_type": "execute_result",
          "data": {
            "text/html": [
              "\n",
              "  <div id=\"df-f380443a-4661-4225-a21c-f531421435e1\">\n",
              "    <div class=\"colab-df-container\">\n",
              "      <div>\n",
              "<style scoped>\n",
              "    .dataframe tbody tr th:only-of-type {\n",
              "        vertical-align: middle;\n",
              "    }\n",
              "\n",
              "    .dataframe tbody tr th {\n",
              "        vertical-align: top;\n",
              "    }\n",
              "\n",
              "    .dataframe thead th {\n",
              "        text-align: right;\n",
              "    }\n",
              "</style>\n",
              "<table border=\"1\" class=\"dataframe\">\n",
              "  <thead>\n",
              "    <tr style=\"text-align: right;\">\n",
              "      <th></th>\n",
              "      <th>english</th>\n",
              "      <th>italian</th>\n",
              "    </tr>\n",
              "  </thead>\n",
              "  <tbody>\n",
              "    <tr>\n",
              "      <th>0</th>\n",
              "      <td>hi</td>\n",
              "      <td>ciao</td>\n",
              "    </tr>\n",
              "    <tr>\n",
              "      <th>1</th>\n",
              "      <td>hi</td>\n",
              "      <td>ciao</td>\n",
              "    </tr>\n",
              "    <tr>\n",
              "      <th>2</th>\n",
              "      <td>run</td>\n",
              "      <td>corri</td>\n",
              "    </tr>\n",
              "    <tr>\n",
              "      <th>3</th>\n",
              "      <td>run</td>\n",
              "      <td>corra</td>\n",
              "    </tr>\n",
              "    <tr>\n",
              "      <th>4</th>\n",
              "      <td>run</td>\n",
              "      <td>correte</td>\n",
              "    </tr>\n",
              "  </tbody>\n",
              "</table>\n",
              "</div>\n",
              "      <button class=\"colab-df-convert\" onclick=\"convertToInteractive('df-f380443a-4661-4225-a21c-f531421435e1')\"\n",
              "              title=\"Convert this dataframe to an interactive table.\"\n",
              "              style=\"display:none;\">\n",
              "        \n",
              "  <svg xmlns=\"http://www.w3.org/2000/svg\" height=\"24px\"viewBox=\"0 0 24 24\"\n",
              "       width=\"24px\">\n",
              "    <path d=\"M0 0h24v24H0V0z\" fill=\"none\"/>\n",
              "    <path d=\"M18.56 5.44l.94 2.06.94-2.06 2.06-.94-2.06-.94-.94-2.06-.94 2.06-2.06.94zm-11 1L8.5 8.5l.94-2.06 2.06-.94-2.06-.94L8.5 2.5l-.94 2.06-2.06.94zm10 10l.94 2.06.94-2.06 2.06-.94-2.06-.94-.94-2.06-.94 2.06-2.06.94z\"/><path d=\"M17.41 7.96l-1.37-1.37c-.4-.4-.92-.59-1.43-.59-.52 0-1.04.2-1.43.59L10.3 9.45l-7.72 7.72c-.78.78-.78 2.05 0 2.83L4 21.41c.39.39.9.59 1.41.59.51 0 1.02-.2 1.41-.59l7.78-7.78 2.81-2.81c.8-.78.8-2.07 0-2.86zM5.41 20L4 18.59l7.72-7.72 1.47 1.35L5.41 20z\"/>\n",
              "  </svg>\n",
              "      </button>\n",
              "      \n",
              "  <style>\n",
              "    .colab-df-container {\n",
              "      display:flex;\n",
              "      flex-wrap:wrap;\n",
              "      gap: 12px;\n",
              "    }\n",
              "\n",
              "    .colab-df-convert {\n",
              "      background-color: #E8F0FE;\n",
              "      border: none;\n",
              "      border-radius: 50%;\n",
              "      cursor: pointer;\n",
              "      display: none;\n",
              "      fill: #1967D2;\n",
              "      height: 32px;\n",
              "      padding: 0 0 0 0;\n",
              "      width: 32px;\n",
              "    }\n",
              "\n",
              "    .colab-df-convert:hover {\n",
              "      background-color: #E2EBFA;\n",
              "      box-shadow: 0px 1px 2px rgba(60, 64, 67, 0.3), 0px 1px 3px 1px rgba(60, 64, 67, 0.15);\n",
              "      fill: #174EA6;\n",
              "    }\n",
              "\n",
              "    [theme=dark] .colab-df-convert {\n",
              "      background-color: #3B4455;\n",
              "      fill: #D2E3FC;\n",
              "    }\n",
              "\n",
              "    [theme=dark] .colab-df-convert:hover {\n",
              "      background-color: #434B5C;\n",
              "      box-shadow: 0px 1px 3px 1px rgba(0, 0, 0, 0.15);\n",
              "      filter: drop-shadow(0px 1px 2px rgba(0, 0, 0, 0.3));\n",
              "      fill: #FFFFFF;\n",
              "    }\n",
              "  </style>\n",
              "\n",
              "      <script>\n",
              "        const buttonEl =\n",
              "          document.querySelector('#df-f380443a-4661-4225-a21c-f531421435e1 button.colab-df-convert');\n",
              "        buttonEl.style.display =\n",
              "          google.colab.kernel.accessAllowed ? 'block' : 'none';\n",
              "\n",
              "        async function convertToInteractive(key) {\n",
              "          const element = document.querySelector('#df-f380443a-4661-4225-a21c-f531421435e1');\n",
              "          const dataTable =\n",
              "            await google.colab.kernel.invokeFunction('convertToInteractive',\n",
              "                                                     [key], {});\n",
              "          if (!dataTable) return;\n",
              "\n",
              "          const docLinkHtml = 'Like what you see? Visit the ' +\n",
              "            '<a target=\"_blank\" href=https://colab.research.google.com/notebooks/data_table.ipynb>data table notebook</a>'\n",
              "            + ' to learn more about interactive tables.';\n",
              "          element.innerHTML = '';\n",
              "          dataTable['output_type'] = 'display_data';\n",
              "          await google.colab.output.renderOutput(dataTable, element);\n",
              "          const docLink = document.createElement('div');\n",
              "          docLink.innerHTML = docLinkHtml;\n",
              "          element.appendChild(docLink);\n",
              "        }\n",
              "      </script>\n",
              "    </div>\n",
              "  </div>\n",
              "  "
            ],
            "text/plain": [
              "  english  italian\n",
              "0      hi     ciao\n",
              "1      hi     ciao\n",
              "2     run    corri\n",
              "3     run    corra\n",
              "4     run  correte"
            ]
          },
          "metadata": {},
          "execution_count": 6
        }
      ]
    },
    {
      "cell_type": "code",
      "metadata": {
        "colab": {
          "base_uri": "https://localhost:8080/",
          "height": 310
        },
        "id": "ESNcDx9f914L",
        "outputId": "8621450f-98b9-45ac-b455-6174ea214630"
      },
      "source": [
        "data['italian_len'] = data['italian'].str.split().apply(len)\n",
        "data = data[data['italian_len'] < 20]\n",
        "\n",
        "data['english_len'] = data['english'].str.split().apply(len)\n",
        "data = data[data['english_len'] < 20]\n",
        "\n",
        "data['english_inp'] = '<start> ' + data['english'].astype(str)\n",
        "data['english_out'] = data['english'].astype(str) + ' <end>'\n",
        "\n",
        "data = data.drop(['english','italian_len','english_len'], axis=1)\n",
        "# only for the first sentance add a toke <end> so that we will have <end> in tokenizer\n",
        "data.head()"
      ],
      "execution_count": 7,
      "outputs": [
        {
          "output_type": "stream",
          "name": "stderr",
          "text": [
            "/usr/local/lib/python3.7/dist-packages/ipykernel_launcher.py:7: SettingWithCopyWarning: \n",
            "A value is trying to be set on a copy of a slice from a DataFrame.\n",
            "Try using .loc[row_indexer,col_indexer] = value instead\n",
            "\n",
            "See the caveats in the documentation: https://pandas.pydata.org/pandas-docs/stable/user_guide/indexing.html#returning-a-view-versus-a-copy\n",
            "  import sys\n"
          ]
        },
        {
          "output_type": "execute_result",
          "data": {
            "text/html": [
              "\n",
              "  <div id=\"df-783549d3-f9b3-4f63-a372-bafb4e7ab4a9\">\n",
              "    <div class=\"colab-df-container\">\n",
              "      <div>\n",
              "<style scoped>\n",
              "    .dataframe tbody tr th:only-of-type {\n",
              "        vertical-align: middle;\n",
              "    }\n",
              "\n",
              "    .dataframe tbody tr th {\n",
              "        vertical-align: top;\n",
              "    }\n",
              "\n",
              "    .dataframe thead th {\n",
              "        text-align: right;\n",
              "    }\n",
              "</style>\n",
              "<table border=\"1\" class=\"dataframe\">\n",
              "  <thead>\n",
              "    <tr style=\"text-align: right;\">\n",
              "      <th></th>\n",
              "      <th>italian</th>\n",
              "      <th>english_inp</th>\n",
              "      <th>english_out</th>\n",
              "    </tr>\n",
              "  </thead>\n",
              "  <tbody>\n",
              "    <tr>\n",
              "      <th>0</th>\n",
              "      <td>ciao</td>\n",
              "      <td>&lt;start&gt; hi</td>\n",
              "      <td>hi &lt;end&gt;</td>\n",
              "    </tr>\n",
              "    <tr>\n",
              "      <th>1</th>\n",
              "      <td>ciao</td>\n",
              "      <td>&lt;start&gt; hi</td>\n",
              "      <td>hi &lt;end&gt;</td>\n",
              "    </tr>\n",
              "    <tr>\n",
              "      <th>2</th>\n",
              "      <td>corri</td>\n",
              "      <td>&lt;start&gt; run</td>\n",
              "      <td>run &lt;end&gt;</td>\n",
              "    </tr>\n",
              "    <tr>\n",
              "      <th>3</th>\n",
              "      <td>corra</td>\n",
              "      <td>&lt;start&gt; run</td>\n",
              "      <td>run &lt;end&gt;</td>\n",
              "    </tr>\n",
              "    <tr>\n",
              "      <th>4</th>\n",
              "      <td>correte</td>\n",
              "      <td>&lt;start&gt; run</td>\n",
              "      <td>run &lt;end&gt;</td>\n",
              "    </tr>\n",
              "  </tbody>\n",
              "</table>\n",
              "</div>\n",
              "      <button class=\"colab-df-convert\" onclick=\"convertToInteractive('df-783549d3-f9b3-4f63-a372-bafb4e7ab4a9')\"\n",
              "              title=\"Convert this dataframe to an interactive table.\"\n",
              "              style=\"display:none;\">\n",
              "        \n",
              "  <svg xmlns=\"http://www.w3.org/2000/svg\" height=\"24px\"viewBox=\"0 0 24 24\"\n",
              "       width=\"24px\">\n",
              "    <path d=\"M0 0h24v24H0V0z\" fill=\"none\"/>\n",
              "    <path d=\"M18.56 5.44l.94 2.06.94-2.06 2.06-.94-2.06-.94-.94-2.06-.94 2.06-2.06.94zm-11 1L8.5 8.5l.94-2.06 2.06-.94-2.06-.94L8.5 2.5l-.94 2.06-2.06.94zm10 10l.94 2.06.94-2.06 2.06-.94-2.06-.94-.94-2.06-.94 2.06-2.06.94z\"/><path d=\"M17.41 7.96l-1.37-1.37c-.4-.4-.92-.59-1.43-.59-.52 0-1.04.2-1.43.59L10.3 9.45l-7.72 7.72c-.78.78-.78 2.05 0 2.83L4 21.41c.39.39.9.59 1.41.59.51 0 1.02-.2 1.41-.59l7.78-7.78 2.81-2.81c.8-.78.8-2.07 0-2.86zM5.41 20L4 18.59l7.72-7.72 1.47 1.35L5.41 20z\"/>\n",
              "  </svg>\n",
              "      </button>\n",
              "      \n",
              "  <style>\n",
              "    .colab-df-container {\n",
              "      display:flex;\n",
              "      flex-wrap:wrap;\n",
              "      gap: 12px;\n",
              "    }\n",
              "\n",
              "    .colab-df-convert {\n",
              "      background-color: #E8F0FE;\n",
              "      border: none;\n",
              "      border-radius: 50%;\n",
              "      cursor: pointer;\n",
              "      display: none;\n",
              "      fill: #1967D2;\n",
              "      height: 32px;\n",
              "      padding: 0 0 0 0;\n",
              "      width: 32px;\n",
              "    }\n",
              "\n",
              "    .colab-df-convert:hover {\n",
              "      background-color: #E2EBFA;\n",
              "      box-shadow: 0px 1px 2px rgba(60, 64, 67, 0.3), 0px 1px 3px 1px rgba(60, 64, 67, 0.15);\n",
              "      fill: #174EA6;\n",
              "    }\n",
              "\n",
              "    [theme=dark] .colab-df-convert {\n",
              "      background-color: #3B4455;\n",
              "      fill: #D2E3FC;\n",
              "    }\n",
              "\n",
              "    [theme=dark] .colab-df-convert:hover {\n",
              "      background-color: #434B5C;\n",
              "      box-shadow: 0px 1px 3px 1px rgba(0, 0, 0, 0.15);\n",
              "      filter: drop-shadow(0px 1px 2px rgba(0, 0, 0, 0.3));\n",
              "      fill: #FFFFFF;\n",
              "    }\n",
              "  </style>\n",
              "\n",
              "      <script>\n",
              "        const buttonEl =\n",
              "          document.querySelector('#df-783549d3-f9b3-4f63-a372-bafb4e7ab4a9 button.colab-df-convert');\n",
              "        buttonEl.style.display =\n",
              "          google.colab.kernel.accessAllowed ? 'block' : 'none';\n",
              "\n",
              "        async function convertToInteractive(key) {\n",
              "          const element = document.querySelector('#df-783549d3-f9b3-4f63-a372-bafb4e7ab4a9');\n",
              "          const dataTable =\n",
              "            await google.colab.kernel.invokeFunction('convertToInteractive',\n",
              "                                                     [key], {});\n",
              "          if (!dataTable) return;\n",
              "\n",
              "          const docLinkHtml = 'Like what you see? Visit the ' +\n",
              "            '<a target=\"_blank\" href=https://colab.research.google.com/notebooks/data_table.ipynb>data table notebook</a>'\n",
              "            + ' to learn more about interactive tables.';\n",
              "          element.innerHTML = '';\n",
              "          dataTable['output_type'] = 'display_data';\n",
              "          await google.colab.output.renderOutput(dataTable, element);\n",
              "          const docLink = document.createElement('div');\n",
              "          docLink.innerHTML = docLinkHtml;\n",
              "          element.appendChild(docLink);\n",
              "        }\n",
              "      </script>\n",
              "    </div>\n",
              "  </div>\n",
              "  "
            ],
            "text/plain": [
              "   italian  english_inp english_out\n",
              "0     ciao   <start> hi    hi <end>\n",
              "1     ciao   <start> hi    hi <end>\n",
              "2    corri  <start> run   run <end>\n",
              "3    corra  <start> run   run <end>\n",
              "4  correte  <start> run   run <end>"
            ]
          },
          "metadata": {},
          "execution_count": 7
        }
      ]
    },
    {
      "cell_type": "code",
      "metadata": {
        "colab": {
          "base_uri": "https://localhost:8080/",
          "height": 363
        },
        "id": "yxouecbE93RR",
        "outputId": "cbe788c6-8495-4383-f9e7-3a0e1130169a"
      },
      "source": [
        "data.sample(10)"
      ],
      "execution_count": 8,
      "outputs": [
        {
          "output_type": "execute_result",
          "data": {
            "text/html": [
              "\n",
              "  <div id=\"df-93766755-13b7-42b1-ab13-a4488e15e135\">\n",
              "    <div class=\"colab-df-container\">\n",
              "      <div>\n",
              "<style scoped>\n",
              "    .dataframe tbody tr th:only-of-type {\n",
              "        vertical-align: middle;\n",
              "    }\n",
              "\n",
              "    .dataframe tbody tr th {\n",
              "        vertical-align: top;\n",
              "    }\n",
              "\n",
              "    .dataframe thead th {\n",
              "        text-align: right;\n",
              "    }\n",
              "</style>\n",
              "<table border=\"1\" class=\"dataframe\">\n",
              "  <thead>\n",
              "    <tr style=\"text-align: right;\">\n",
              "      <th></th>\n",
              "      <th>italian</th>\n",
              "      <th>english_inp</th>\n",
              "      <th>english_out</th>\n",
              "    </tr>\n",
              "  </thead>\n",
              "  <tbody>\n",
              "    <tr>\n",
              "      <th>289143</th>\n",
              "      <td>non è facile parlare bene in francese</td>\n",
              "      <td>&lt;start&gt; it is not easy to speak french well</td>\n",
              "      <td>it is not easy to speak french well &lt;end&gt;</td>\n",
              "    </tr>\n",
              "    <tr>\n",
              "      <th>352481</th>\n",
              "      <td>linsegnante ha affermato che ci avrebbe fatto ...</td>\n",
              "      <td>&lt;start&gt; the teacher claimed that he would have...</td>\n",
              "      <td>the teacher claimed that he would have us all ...</td>\n",
              "    </tr>\n",
              "    <tr>\n",
              "      <th>94461</th>\n",
              "      <td>i ragazzi hanno sete</td>\n",
              "      <td>&lt;start&gt; the boys are thirsty</td>\n",
              "      <td>the boys are thirsty &lt;end&gt;</td>\n",
              "    </tr>\n",
              "    <tr>\n",
              "      <th>21748</th>\n",
              "      <td>le due si sono baciate</td>\n",
              "      <td>&lt;start&gt; the two kissed</td>\n",
              "      <td>the two kissed &lt;end&gt;</td>\n",
              "    </tr>\n",
              "    <tr>\n",
              "      <th>349746</th>\n",
              "      <td>che tipo di birra vuoi coshai alla spina</td>\n",
              "      <td>&lt;start&gt; what kind of beer do you want what do ...</td>\n",
              "      <td>what kind of beer do you want what do you have...</td>\n",
              "    </tr>\n",
              "    <tr>\n",
              "      <th>106694</th>\n",
              "      <td>io mi prenderò cura di te</td>\n",
              "      <td>&lt;start&gt; i will take care of you</td>\n",
              "      <td>i will take care of you &lt;end&gt;</td>\n",
              "    </tr>\n",
              "    <tr>\n",
              "      <th>174771</th>\n",
              "      <td>tom è un battitore molto bravo</td>\n",
              "      <td>&lt;start&gt; tom is a very good batter</td>\n",
              "      <td>tom is a very good batter &lt;end&gt;</td>\n",
              "    </tr>\n",
              "    <tr>\n",
              "      <th>79958</th>\n",
              "      <td>anche loro mi hanno aiutato</td>\n",
              "      <td>&lt;start&gt; they helped me too</td>\n",
              "      <td>they helped me too &lt;end&gt;</td>\n",
              "    </tr>\n",
              "    <tr>\n",
              "      <th>77325</th>\n",
              "      <td>sto cercando delle risposte</td>\n",
              "      <td>&lt;start&gt; i am seeking answers</td>\n",
              "      <td>i am seeking answers &lt;end&gt;</td>\n",
              "    </tr>\n",
              "    <tr>\n",
              "      <th>112028</th>\n",
              "      <td>a tom serve un ombrello</td>\n",
              "      <td>&lt;start&gt; tom needs an umbrella</td>\n",
              "      <td>tom needs an umbrella &lt;end&gt;</td>\n",
              "    </tr>\n",
              "  </tbody>\n",
              "</table>\n",
              "</div>\n",
              "      <button class=\"colab-df-convert\" onclick=\"convertToInteractive('df-93766755-13b7-42b1-ab13-a4488e15e135')\"\n",
              "              title=\"Convert this dataframe to an interactive table.\"\n",
              "              style=\"display:none;\">\n",
              "        \n",
              "  <svg xmlns=\"http://www.w3.org/2000/svg\" height=\"24px\"viewBox=\"0 0 24 24\"\n",
              "       width=\"24px\">\n",
              "    <path d=\"M0 0h24v24H0V0z\" fill=\"none\"/>\n",
              "    <path d=\"M18.56 5.44l.94 2.06.94-2.06 2.06-.94-2.06-.94-.94-2.06-.94 2.06-2.06.94zm-11 1L8.5 8.5l.94-2.06 2.06-.94-2.06-.94L8.5 2.5l-.94 2.06-2.06.94zm10 10l.94 2.06.94-2.06 2.06-.94-2.06-.94-.94-2.06-.94 2.06-2.06.94z\"/><path d=\"M17.41 7.96l-1.37-1.37c-.4-.4-.92-.59-1.43-.59-.52 0-1.04.2-1.43.59L10.3 9.45l-7.72 7.72c-.78.78-.78 2.05 0 2.83L4 21.41c.39.39.9.59 1.41.59.51 0 1.02-.2 1.41-.59l7.78-7.78 2.81-2.81c.8-.78.8-2.07 0-2.86zM5.41 20L4 18.59l7.72-7.72 1.47 1.35L5.41 20z\"/>\n",
              "  </svg>\n",
              "      </button>\n",
              "      \n",
              "  <style>\n",
              "    .colab-df-container {\n",
              "      display:flex;\n",
              "      flex-wrap:wrap;\n",
              "      gap: 12px;\n",
              "    }\n",
              "\n",
              "    .colab-df-convert {\n",
              "      background-color: #E8F0FE;\n",
              "      border: none;\n",
              "      border-radius: 50%;\n",
              "      cursor: pointer;\n",
              "      display: none;\n",
              "      fill: #1967D2;\n",
              "      height: 32px;\n",
              "      padding: 0 0 0 0;\n",
              "      width: 32px;\n",
              "    }\n",
              "\n",
              "    .colab-df-convert:hover {\n",
              "      background-color: #E2EBFA;\n",
              "      box-shadow: 0px 1px 2px rgba(60, 64, 67, 0.3), 0px 1px 3px 1px rgba(60, 64, 67, 0.15);\n",
              "      fill: #174EA6;\n",
              "    }\n",
              "\n",
              "    [theme=dark] .colab-df-convert {\n",
              "      background-color: #3B4455;\n",
              "      fill: #D2E3FC;\n",
              "    }\n",
              "\n",
              "    [theme=dark] .colab-df-convert:hover {\n",
              "      background-color: #434B5C;\n",
              "      box-shadow: 0px 1px 3px 1px rgba(0, 0, 0, 0.15);\n",
              "      filter: drop-shadow(0px 1px 2px rgba(0, 0, 0, 0.3));\n",
              "      fill: #FFFFFF;\n",
              "    }\n",
              "  </style>\n",
              "\n",
              "      <script>\n",
              "        const buttonEl =\n",
              "          document.querySelector('#df-93766755-13b7-42b1-ab13-a4488e15e135 button.colab-df-convert');\n",
              "        buttonEl.style.display =\n",
              "          google.colab.kernel.accessAllowed ? 'block' : 'none';\n",
              "\n",
              "        async function convertToInteractive(key) {\n",
              "          const element = document.querySelector('#df-93766755-13b7-42b1-ab13-a4488e15e135');\n",
              "          const dataTable =\n",
              "            await google.colab.kernel.invokeFunction('convertToInteractive',\n",
              "                                                     [key], {});\n",
              "          if (!dataTable) return;\n",
              "\n",
              "          const docLinkHtml = 'Like what you see? Visit the ' +\n",
              "            '<a target=\"_blank\" href=https://colab.research.google.com/notebooks/data_table.ipynb>data table notebook</a>'\n",
              "            + ' to learn more about interactive tables.';\n",
              "          element.innerHTML = '';\n",
              "          dataTable['output_type'] = 'display_data';\n",
              "          await google.colab.output.renderOutput(dataTable, element);\n",
              "          const docLink = document.createElement('div');\n",
              "          docLink.innerHTML = docLinkHtml;\n",
              "          element.appendChild(docLink);\n",
              "        }\n",
              "      </script>\n",
              "    </div>\n",
              "  </div>\n",
              "  "
            ],
            "text/plain": [
              "                                                  italian  ...                                        english_out\n",
              "289143              non è facile parlare bene in francese  ...          it is not easy to speak french well <end>\n",
              "352481  linsegnante ha affermato che ci avrebbe fatto ...  ...  the teacher claimed that he would have us all ...\n",
              "94461                                i ragazzi hanno sete  ...                         the boys are thirsty <end>\n",
              "21748                              le due si sono baciate  ...                               the two kissed <end>\n",
              "349746           che tipo di birra vuoi coshai alla spina  ...  what kind of beer do you want what do you have...\n",
              "106694                          io mi prenderò cura di te  ...                      i will take care of you <end>\n",
              "174771                     tom è un battitore molto bravo  ...                    tom is a very good batter <end>\n",
              "79958                         anche loro mi hanno aiutato  ...                           they helped me too <end>\n",
              "77325                         sto cercando delle risposte  ...                         i am seeking answers <end>\n",
              "112028                            a tom serve un ombrello  ...                        tom needs an umbrella <end>\n",
              "\n",
              "[10 rows x 3 columns]"
            ]
          },
          "metadata": {},
          "execution_count": 8
        }
      ]
    },
    {
      "cell_type": "code",
      "metadata": {
        "id": "IJSPYiCpx_XN"
      },
      "source": [
        "data.to_csv('preprocessed_seq',index=False)"
      ],
      "execution_count": 9,
      "outputs": []
    },
    {
      "cell_type": "code",
      "metadata": {
        "id": "A05hhCLwyMrv"
      },
      "source": [
        "data2=pd.read_csv('preprocessed_seq')"
      ],
      "execution_count": 10,
      "outputs": []
    },
    {
      "cell_type": "code",
      "metadata": {
        "id": "za1AkanJ-uKa"
      },
      "source": [
        "from sklearn.model_selection import train_test_split\n",
        "train, validation = train_test_split(data2, test_size=0.2)"
      ],
      "execution_count": 11,
      "outputs": []
    },
    {
      "cell_type": "code",
      "metadata": {
        "colab": {
          "base_uri": "https://localhost:8080/",
          "height": 0
        },
        "id": "nZenBqVPyiuj",
        "outputId": "5ffbcd01-0b50-4baf-87a4-1c27e10f4370"
      },
      "source": [
        "print(train.shape, validation.shape)"
      ],
      "execution_count": 12,
      "outputs": [
        {
          "output_type": "stream",
          "name": "stdout",
          "text": [
            "(282230, 3) (70558, 3)\n"
          ]
        }
      ]
    },
    {
      "cell_type": "code",
      "metadata": {
        "id": "dlpK1NkZ-vHb"
      },
      "source": [
        "\n",
        "# for one sentence I will be adding <end> token so that the tokanizer learns the word <end>\n",
        "# with this I can use only one tokenizer for both encoder output and decoder output\n",
        "train.iloc[0]['english_inp']= str(train.iloc[0]['english_inp'])+' <end>'\n",
        "train.iloc[0]['english_out']= str(train.iloc[0]['english_out'])+' <end>'"
      ],
      "execution_count": 13,
      "outputs": []
    },
    {
      "cell_type": "code",
      "metadata": {
        "colab": {
          "base_uri": "https://localhost:8080/",
          "height": 363
        },
        "id": "u0HvbffU-wxl",
        "outputId": "1c0f4a64-2572-43f7-9686-6fcaa1e22d22"
      },
      "source": [
        "train.head(10)"
      ],
      "execution_count": 14,
      "outputs": [
        {
          "output_type": "execute_result",
          "data": {
            "text/html": [
              "\n",
              "  <div id=\"df-96b82e9e-f2e1-4f3d-b90b-6f52f36e987d\">\n",
              "    <div class=\"colab-df-container\">\n",
              "      <div>\n",
              "<style scoped>\n",
              "    .dataframe tbody tr th:only-of-type {\n",
              "        vertical-align: middle;\n",
              "    }\n",
              "\n",
              "    .dataframe tbody tr th {\n",
              "        vertical-align: top;\n",
              "    }\n",
              "\n",
              "    .dataframe thead th {\n",
              "        text-align: right;\n",
              "    }\n",
              "</style>\n",
              "<table border=\"1\" class=\"dataframe\">\n",
              "  <thead>\n",
              "    <tr style=\"text-align: right;\">\n",
              "      <th></th>\n",
              "      <th>italian</th>\n",
              "      <th>english_inp</th>\n",
              "      <th>english_out</th>\n",
              "    </tr>\n",
              "  </thead>\n",
              "  <tbody>\n",
              "    <tr>\n",
              "      <th>51527</th>\n",
              "      <td>lei ha una foto</td>\n",
              "      <td>&lt;start&gt; she has a picture &lt;end&gt;</td>\n",
              "      <td>she has a picture &lt;end&gt; &lt;end&gt;</td>\n",
              "    </tr>\n",
              "    <tr>\n",
              "      <th>148404</th>\n",
              "      <td>ti sei divertita stasera</td>\n",
              "      <td>&lt;start&gt; did you have fun tonight</td>\n",
              "      <td>did you have fun tonight &lt;end&gt;</td>\n",
              "    </tr>\n",
              "    <tr>\n",
              "      <th>160795</th>\n",
              "      <td>abbiamo finito lo zucchero</td>\n",
              "      <td>&lt;start&gt; we have run out of sugar</td>\n",
              "      <td>we have run out of sugar &lt;end&gt;</td>\n",
              "    </tr>\n",
              "    <tr>\n",
              "      <th>328671</th>\n",
              "      <td>sembra carina a prescindere da quello che indossa</td>\n",
              "      <td>&lt;start&gt; she looks pretty no matter what she wears</td>\n",
              "      <td>she looks pretty no matter what she wears &lt;end&gt;</td>\n",
              "    </tr>\n",
              "    <tr>\n",
              "      <th>88315</th>\n",
              "      <td>come siamo venuti qui</td>\n",
              "      <td>&lt;start&gt; how did we come here</td>\n",
              "      <td>how did we come here &lt;end&gt;</td>\n",
              "    </tr>\n",
              "    <tr>\n",
              "      <th>302079</th>\n",
              "      <td>ha detto di essere già stato alle hawaii</td>\n",
              "      <td>&lt;start&gt; he said he had been to hawaii before</td>\n",
              "      <td>he said he had been to hawaii before &lt;end&gt;</td>\n",
              "    </tr>\n",
              "    <tr>\n",
              "      <th>216487</th>\n",
              "      <td>io pensavo che tom fosse canadese</td>\n",
              "      <td>&lt;start&gt; i thought tom was a canadian</td>\n",
              "      <td>i thought tom was a canadian &lt;end&gt;</td>\n",
              "    </tr>\n",
              "    <tr>\n",
              "      <th>74486</th>\n",
              "      <td>non ho una moglie</td>\n",
              "      <td>&lt;start&gt; i do not have a wife</td>\n",
              "      <td>i do not have a wife &lt;end&gt;</td>\n",
              "    </tr>\n",
              "    <tr>\n",
              "      <th>180345</th>\n",
              "      <td>sai chi vive qui</td>\n",
              "      <td>&lt;start&gt; do you know who lives here</td>\n",
              "      <td>do you know who lives here &lt;end&gt;</td>\n",
              "    </tr>\n",
              "    <tr>\n",
              "      <th>279779</th>\n",
              "      <td>preferirei essere qui che a boston</td>\n",
              "      <td>&lt;start&gt; i would rather be here than in boston</td>\n",
              "      <td>i would rather be here than in boston &lt;end&gt;</td>\n",
              "    </tr>\n",
              "  </tbody>\n",
              "</table>\n",
              "</div>\n",
              "      <button class=\"colab-df-convert\" onclick=\"convertToInteractive('df-96b82e9e-f2e1-4f3d-b90b-6f52f36e987d')\"\n",
              "              title=\"Convert this dataframe to an interactive table.\"\n",
              "              style=\"display:none;\">\n",
              "        \n",
              "  <svg xmlns=\"http://www.w3.org/2000/svg\" height=\"24px\"viewBox=\"0 0 24 24\"\n",
              "       width=\"24px\">\n",
              "    <path d=\"M0 0h24v24H0V0z\" fill=\"none\"/>\n",
              "    <path d=\"M18.56 5.44l.94 2.06.94-2.06 2.06-.94-2.06-.94-.94-2.06-.94 2.06-2.06.94zm-11 1L8.5 8.5l.94-2.06 2.06-.94-2.06-.94L8.5 2.5l-.94 2.06-2.06.94zm10 10l.94 2.06.94-2.06 2.06-.94-2.06-.94-.94-2.06-.94 2.06-2.06.94z\"/><path d=\"M17.41 7.96l-1.37-1.37c-.4-.4-.92-.59-1.43-.59-.52 0-1.04.2-1.43.59L10.3 9.45l-7.72 7.72c-.78.78-.78 2.05 0 2.83L4 21.41c.39.39.9.59 1.41.59.51 0 1.02-.2 1.41-.59l7.78-7.78 2.81-2.81c.8-.78.8-2.07 0-2.86zM5.41 20L4 18.59l7.72-7.72 1.47 1.35L5.41 20z\"/>\n",
              "  </svg>\n",
              "      </button>\n",
              "      \n",
              "  <style>\n",
              "    .colab-df-container {\n",
              "      display:flex;\n",
              "      flex-wrap:wrap;\n",
              "      gap: 12px;\n",
              "    }\n",
              "\n",
              "    .colab-df-convert {\n",
              "      background-color: #E8F0FE;\n",
              "      border: none;\n",
              "      border-radius: 50%;\n",
              "      cursor: pointer;\n",
              "      display: none;\n",
              "      fill: #1967D2;\n",
              "      height: 32px;\n",
              "      padding: 0 0 0 0;\n",
              "      width: 32px;\n",
              "    }\n",
              "\n",
              "    .colab-df-convert:hover {\n",
              "      background-color: #E2EBFA;\n",
              "      box-shadow: 0px 1px 2px rgba(60, 64, 67, 0.3), 0px 1px 3px 1px rgba(60, 64, 67, 0.15);\n",
              "      fill: #174EA6;\n",
              "    }\n",
              "\n",
              "    [theme=dark] .colab-df-convert {\n",
              "      background-color: #3B4455;\n",
              "      fill: #D2E3FC;\n",
              "    }\n",
              "\n",
              "    [theme=dark] .colab-df-convert:hover {\n",
              "      background-color: #434B5C;\n",
              "      box-shadow: 0px 1px 3px 1px rgba(0, 0, 0, 0.15);\n",
              "      filter: drop-shadow(0px 1px 2px rgba(0, 0, 0, 0.3));\n",
              "      fill: #FFFFFF;\n",
              "    }\n",
              "  </style>\n",
              "\n",
              "      <script>\n",
              "        const buttonEl =\n",
              "          document.querySelector('#df-96b82e9e-f2e1-4f3d-b90b-6f52f36e987d button.colab-df-convert');\n",
              "        buttonEl.style.display =\n",
              "          google.colab.kernel.accessAllowed ? 'block' : 'none';\n",
              "\n",
              "        async function convertToInteractive(key) {\n",
              "          const element = document.querySelector('#df-96b82e9e-f2e1-4f3d-b90b-6f52f36e987d');\n",
              "          const dataTable =\n",
              "            await google.colab.kernel.invokeFunction('convertToInteractive',\n",
              "                                                     [key], {});\n",
              "          if (!dataTable) return;\n",
              "\n",
              "          const docLinkHtml = 'Like what you see? Visit the ' +\n",
              "            '<a target=\"_blank\" href=https://colab.research.google.com/notebooks/data_table.ipynb>data table notebook</a>'\n",
              "            + ' to learn more about interactive tables.';\n",
              "          element.innerHTML = '';\n",
              "          dataTable['output_type'] = 'display_data';\n",
              "          await google.colab.output.renderOutput(dataTable, element);\n",
              "          const docLink = document.createElement('div');\n",
              "          docLink.innerHTML = docLinkHtml;\n",
              "          element.appendChild(docLink);\n",
              "        }\n",
              "      </script>\n",
              "    </div>\n",
              "  </div>\n",
              "  "
            ],
            "text/plain": [
              "                                                  italian  ...                                      english_out\n",
              "51527                                     lei ha una foto  ...                    she has a picture <end> <end>\n",
              "148404                           ti sei divertita stasera  ...                   did you have fun tonight <end>\n",
              "160795                         abbiamo finito lo zucchero  ...                   we have run out of sugar <end>\n",
              "328671  sembra carina a prescindere da quello che indossa  ...  she looks pretty no matter what she wears <end>\n",
              "88315                               come siamo venuti qui  ...                       how did we come here <end>\n",
              "302079           ha detto di essere già stato alle hawaii  ...       he said he had been to hawaii before <end>\n",
              "216487                  io pensavo che tom fosse canadese  ...               i thought tom was a canadian <end>\n",
              "74486                                   non ho una moglie  ...                       i do not have a wife <end>\n",
              "180345                                   sai chi vive qui  ...                 do you know who lives here <end>\n",
              "279779                 preferirei essere qui che a boston  ...      i would rather be here than in boston <end>\n",
              "\n",
              "[10 rows x 3 columns]"
            ]
          },
          "metadata": {},
          "execution_count": 14
        }
      ]
    },
    {
      "cell_type": "code",
      "metadata": {
        "colab": {
          "base_uri": "https://localhost:8080/",
          "height": 543
        },
        "id": "sjAkOfFf-y85",
        "outputId": "0691275e-5bc2-42cc-bc0b-859dfd4599e9"
      },
      "source": [
        "ita_lengths = train['italian'].str.split().apply(len)\n",
        "eng_lengths = train['english_inp'].str.split().apply(len)\n",
        "import seaborn as sns\n",
        "sns.kdeplot(ita_lengths)\n",
        "plt.show()\n",
        "sns.kdeplot(eng_lengths)\n",
        "plt.show()"
      ],
      "execution_count": 15,
      "outputs": [
        {
          "output_type": "display_data",
          "data": {
            "image/png": "[encoded data removed]",
            "text/plain": [
              "<Figure size 432x288 with 1 Axes>"
            ]
          },
          "metadata": {
            "needs_background": "light"
          }
        },
        {
          "output_type": "display_data",
          "data": {
            "image/png": "[encoded data removed]",
            "text/plain": [
              "<Figure size 432x288 with 1 Axes>"
            ]
          },
          "metadata": {
            "needs_background": "light"
          }
        }
      ]
    },
    {
      "cell_type": "markdown",
      "metadata": {
        "id": "S8RDrP4xKabR"
      },
      "source": [
        "## <font color='blue'>**Implement custom encoder decoder**</font>"
      ]
    },
    {
      "cell_type": "markdown",
      "metadata": {
        "id": "A45uc0JILMlV"
      },
      "source": [
        "<font color='blue'>**Encoder**</font>"
      ]
    },
    {
      "cell_type": "code",
      "metadata": {
        "id": "7T7ehBs--p_T"
      },
      "source": [
        "tknizer_ita = Tokenizer()\n",
        "tknizer_ita.fit_on_texts(train['italian'].values)\n",
        "tknizer_eng = Tokenizer(filters='!\"#$%&()*+,-./:;=?@[\\\\]^_`{|}~\\t\\n')\n",
        "tknizer_eng.fit_on_texts(train['english_inp'].values)"
      ],
      "execution_count": 16,
      "outputs": []
    },
    {
      "cell_type": "code",
      "metadata": {
        "colab": {
          "base_uri": "https://localhost:8080/",
          "height": 0
        },
        "id": "Vac5X91s-sJr",
        "outputId": "73d63a46-c885-4b97-9727-497e41cbbb5e"
      },
      "source": [
        "vocab_size_eng=len(tknizer_eng.word_index.keys())\n",
        "print(vocab_size_eng)\n",
        "vocab_size_ita=len(tknizer_ita.word_index.keys())\n",
        "print(vocab_size_ita)"
      ],
      "execution_count": 17,
      "outputs": [
        {
          "output_type": "stream",
          "name": "stdout",
          "text": [
            "13121\n",
            "26649\n"
          ]
        }
      ]
    },
    {
      "cell_type": "code",
      "metadata": {
        "colab": {
          "base_uri": "https://localhost:8080/",
          "height": 0
        },
        "id": "b_cpMsdh-4a2",
        "outputId": "89b902f1-c231-425b-cd85-6c48d8187789"
      },
      "source": [
        "tknizer_eng.word_index['<start>'], tknizer_eng.word_index['<end>']"
      ],
      "execution_count": 18,
      "outputs": [
        {
          "output_type": "execute_result",
          "data": {
            "text/plain": [
              "(1, 10365)"
            ]
          },
          "metadata": {},
          "execution_count": 18
        }
      ]
    },
    {
      "cell_type": "code",
      "metadata": {
        "id": "k8Oe0mPE-Lrk"
      },
      "source": [
        "embeddings_index = dict()\n",
        "f = open('glove.6B.100d.txt')\n",
        "for line in f:\n",
        "    values = line.split()\n",
        "    word = values[0]\n",
        "    coefs = np.asarray(values[1:], dtype='float32')\n",
        "    embeddings_index[word] = coefs\n",
        "f.close()\n",
        "\n",
        "embedding_matrix = np.zeros((vocab_size_eng+1, 100))\n",
        "for word, i in tknizer_eng.word_index.items():\n",
        "    embedding_vector = embeddings_index.get(word)\n",
        "    if embedding_vector is not None:\n",
        "        embedding_matrix[i] = embedding_vector"
      ],
      "execution_count": 19,
      "outputs": []
    },
    {
      "cell_type": "code",
      "metadata": {
        "id": "f-sB5uEE-IMV"
      },
      "source": [
        "class Encoder(tf.keras.layers.Layer):\n",
        "    def __init__(self, enc_vocab_size, embedding_dim, enc_lstm_size, input_length):\n",
        "        super().__init__()\n",
        "        self.enc_vocab_size = enc_vocab_size\n",
        "        self.embedding_dim = embedding_dim\n",
        "        self.input_length = input_length\n",
        "        self.encoder_output=0\n",
        "        self.lstm_size=enc_lstm_size\n",
        "        self.lstm_output = 0\n",
        "        self.enc_state_h=0\n",
        "        self.enc_state_c=0\n",
        "      \n",
        "        \n",
        "    def build(self, input_shape):\n",
        "        self.embedding = Embedding(input_dim=self.enc_vocab_size, output_dim=self.embedding_dim, input_length=self.input_length,\n",
        "                           mask_zero=True, name=\"embedding_layer_encoder\")\n",
        "        self.lstm = LSTM(self.lstm_size, return_state=True, return_sequences=True, name=\"Encoder_LSTM\")\n",
        "        \n",
        "    def call(self, input_sentances, training=True):\n",
        "        input_embedd= self.embedding(input_sentances)\n",
        "        self.encoder_output, self.enc_state_h,self.enc_state_c = self.lstm(input_embedd)\n",
        "        return self.encoder_output, self.enc_state_h,self.enc_state_c\n",
        "\n",
        "    def initialize_states(self, batch_size):\n",
        "\n",
        "        lstm_h=tf.zeros(shape=[batch_size,self.lstm_size])\n",
        "        lstm_c=tf.zeros(shape=[batch_size,self.lstm_size])\n",
        "\n",
        "        return [lstm_h,lstm_c]\n"
      ],
      "execution_count": 20,
      "outputs": []
    },
    {
      "cell_type": "markdown",
      "metadata": {
        "id": "EtbOI3VwLOe0"
      },
      "source": [
        "<font color='orange'>**Grader function - 1**</font>"
      ]
    },
    {
      "cell_type": "code",
      "metadata": {
        "colab": {
          "base_uri": "https://localhost:8080/",
          "height": 0
        },
        "id": "ziSqOgmhLOe1",
        "outputId": "9177592c-9213-40b3-e2cf-5b0ae88716bc"
      },
      "source": [
        "def grader_check_encoder():\n",
        "    '''\n",
        "        vocab-size: Unique words of the input language,\n",
        "        embedding_size: output embedding dimension for each word after embedding layer,\n",
        "        lstm_size: Number of lstm units,\n",
        "        input_length: Length of the input sentence,\n",
        "        batch_size\n",
        "    '''\n",
        "    vocab_size=10\n",
        "    embedding_size=20\n",
        "    lstm_size=32\n",
        "    input_length=10\n",
        "    batch_size=16\n",
        "    #Intialzing encoder \n",
        "    encoder=Encoder(vocab_size,embedding_size,lstm_size,input_length)\n",
        "    input_sequence=tf.random.uniform(shape=[batch_size,input_length],maxval=vocab_size,minval=0,dtype=tf.int32)\n",
        "    #Intializing encoder initial states\n",
        "    initial_state=encoder.initialize_states(batch_size)\n",
        "    \n",
        "    encoder_output,state_h,state_c=encoder(input_sequence,initial_state)\n",
        "    \n",
        "    assert(encoder_output.shape==(batch_size,input_length,lstm_size) and state_h.shape==(batch_size,lstm_size) and state_c.shape==(batch_size,lstm_size))\n",
        "    return True\n",
        "print(grader_check_encoder())"
      ],
      "execution_count": 21,
      "outputs": [
        {
          "output_type": "stream",
          "name": "stdout",
          "text": [
            "True\n"
          ]
        }
      ]
    },
    {
      "cell_type": "code",
      "metadata": {
        "id": "S6fNro7E_5sD"
      },
      "source": [
        "class Decoder(tf.keras.layers.Layer):\n",
        "    def __init__(self, dec_vocab_size, embedding_dim, dec_lstm_size,input_length):\n",
        "        super().__init__()\n",
        "        self.vocab_size = dec_vocab_size\n",
        "        self.embedding_dim = 100\n",
        "        #self.dec_units = dec_units\n",
        "        self.lstm_size=dec_lstm_size\n",
        "        self.input_length = input_length\n",
        "        # we are using embedding_matrix and not training the embedding layer\n",
        "        self.embedding = Embedding(input_dim=self.vocab_size, output_dim=self.embedding_dim, input_length=self.input_length,\n",
        "                           mask_zero=True, name=\"embedding_layer_decoder\")\n",
        "        self.lstm = LSTM(self.lstm_size, return_sequences=True, return_state=True, name=\"Decoder_LSTM\")\n",
        "    \n",
        "    def call(self, target_sentances, initial_state):\n",
        "        target_embedd = self.embedding(target_sentances)\n",
        "        decoder_output,lstm_h,lstm_c = self.lstm(target_embedd, initial_state)\n",
        "        return decoder_output,lstm_h,lstm_c"
      ],
      "execution_count": 22,
      "outputs": []
    },
    {
      "cell_type": "code",
      "metadata": {
        "id": "9kWhwgLNA_NW"
      },
      "source": [
        "# intial_hidden_state=np.zeros((batch_size,self.lstm_size))\n",
        "# intial_cell_state=np.zeros((batch_size,self.lstm_size))"
      ],
      "execution_count": null,
      "outputs": []
    },
    {
      "cell_type": "markdown",
      "metadata": {
        "id": "Hq-I0SUbLOe8"
      },
      "source": [
        "<font color='orange'>**Grader function - 2**</font>"
      ]
    },
    {
      "cell_type": "code",
      "metadata": {
        "colab": {
          "base_uri": "https://localhost:8080/",
          "height": 0
        },
        "id": "0B0gokgKLOe8",
        "outputId": "7ebd94f3-fbec-4c60-92ca-d6b4821846c3"
      },
      "source": [
        "def grader_decoder():\n",
        "    '''\n",
        "        out_vocab_size: Unique words of the target language,\n",
        "        embedding_size: output embedding dimension for each word after embedding layer,\n",
        "        dec_units: Number of lstm units in decoder,\n",
        "        input_length: Length of the input sentence,\n",
        "        batch_size\n",
        "        \n",
        "    \n",
        "    '''\n",
        "    out_vocab_size=13 \n",
        "    embedding_dim=12 \n",
        "    input_length=10\n",
        "    dec_units=16 \n",
        "    batch_size=32\n",
        "    \n",
        "    target_sentences=tf.random.uniform(shape=(batch_size,input_length),maxval=10,minval=0,dtype=tf.int32)\n",
        "    encoder_output=tf.random.uniform(shape=[batch_size,input_length,dec_units])\n",
        "    state_h=tf.random.uniform(shape=[batch_size,dec_units])\n",
        "    state_c=tf.random.uniform(shape=[batch_size,dec_units])\n",
        "    states=[state_h,state_c]\n",
        "    decoder=Decoder(out_vocab_size, embedding_dim, dec_units,input_length )\n",
        "    output,_,_=decoder(target_sentences, states)\n",
        "    assert(output.shape==(batch_size,input_length,dec_units))\n",
        "    return True\n",
        "print(grader_decoder())"
      ],
      "execution_count": 23,
      "outputs": [
        {
          "output_type": "stream",
          "name": "stdout",
          "text": [
            "True\n"
          ]
        }
      ]
    },
    {
      "cell_type": "code",
      "metadata": {
        "id": "BXrIj4scLOe_"
      },
      "source": [
        "class Encoder_decoder(tf.keras.Model):\n",
        "    \n",
        "    def __init__(self, enc_inputs_len,dec_inputs_len, ed_vocab_size,batch_size):\n",
        "        \n",
        "        #Create encoder object\n",
        "        #Create decoder object\n",
        "        #Intialize Dense layer(out_vocab_size) with activation='softmax'\n",
        "\n",
        "        super().__init__()\n",
        "\n",
        "        self.enc=Encoder(enc_vocab_size=vocab_size_ita+1,embedding_dim=50,enc_lstm_size=256,input_length=enc_inputs_len)\n",
        "        self.dec=Decoder(dec_vocab_size=vocab_size_eng+1,embedding_dim=100,dec_lstm_size=256,input_length=dec_inputs_len)\n",
        "        self.dense_ed=Dense(ed_vocab_size, activation='softmax')\n",
        "        self.enc_states=self.enc.initialize_states(batch_size)\n",
        "    \n",
        "    \n",
        "    def call(self,input_ed):\n",
        "\n",
        "      data_enc=input_ed[0]\n",
        "      data_dec=input_ed[1]\n",
        "      encoder_output,final_state_h,final_state_c=self.enc(data_enc,self.enc_states)\n",
        "      decoder_output,state_h,state_c=self.dec(data_dec,[final_state_h,final_state_c])\n",
        "      dense_ed=self.dense_ed(decoder_output)\n",
        "\n",
        "      return dense_ed\n",
        "        "
      ],
      "execution_count": 24,
      "outputs": []
    },
    {
      "cell_type": "code",
      "metadata": {
        "id": "TGCD58nB-eCU"
      },
      "source": [
        "class Data_en:\n",
        "    def __init__(self, data2, tknizer_ita, tknizer_eng, len_data):\n",
        "        self.in_encoder = data2['italian'].values\n",
        "        self.in_decoder = data2['english_inp'].values\n",
        "        self.out_decoder = data2['english_out'].values\n",
        "        self.tknizer_eng = tknizer_eng\n",
        "        self.tknizer_ita = tknizer_ita\n",
        "        self.len_data = len_data\n",
        "\n",
        "    def __getitem__(self, i):\n",
        "        self.encoder_seq = self.tknizer_ita.texts_to_sequences([self.in_encoder[i]]) # need to pass list of values\n",
        "        self.decoder_inp_seq = self.tknizer_eng.texts_to_sequences([self.in_decoder[i]])\n",
        "        self.decoder_out_seq = self.tknizer_eng.texts_to_sequences([self.out_decoder[i]])\n",
        "\n",
        "        self.encoder_seq = pad_sequences(self.encoder_seq, maxlen=self.len_data, dtype='int32', padding='post')\n",
        "        self.decoder_inp_seq = pad_sequences(self.decoder_inp_seq, maxlen=self.len_data, dtype='int32', padding='post')\n",
        "        self.decoder_out_seq = pad_sequences(self.decoder_out_seq, maxlen=self.len_data, dtype='int32', padding='post')\n",
        "        return self.encoder_seq, self.decoder_inp_seq, self.decoder_out_seq\n",
        "\n",
        "    def __len__(self): # your model.fit_gen requires this function\n",
        "        return len(self.in_encoder)\n",
        "\n",
        "    \n",
        "class LoadData(tf.keras.utils.Sequence):    \n",
        "    def __init__(self, data_lan, batch_size=1):\n",
        "        self.data_lan = data_lan\n",
        "        self.batch_size = batch_size\n",
        "        self.index_data = np.arange(len(self.data_lan.in_encoder))\n",
        "\n",
        "\n",
        "    def __getitem__(self, i):\n",
        "        a = i * self.batch_size\n",
        "        b = (i + 1) * self.batch_size\n",
        "        data_val = []\n",
        "        for j in range(a, b):\n",
        "            data_val.append(self.data_lan[j])\n",
        "\n",
        "        batch_data = [np.squeeze(np.stack(samples, axis=1), axis=0) for samples in zip(*data_val)]\n",
        "        # we are creating data like ([italian, english_inp], english_out) these are already converted into seq\n",
        "        return tuple([[batch_data[0],batch_data[1]],batch_data[2]])\n",
        "\n",
        "    def __len__(self):  # your model.fit_gen requires this function\n",
        "        return len(self.index_data) // self.batch_size\n",
        "\n",
        "    def on_epoch_end(self):\n",
        "        self.index_data = np.random.permutation(self.index_data)"
      ],
      "execution_count": 25,
      "outputs": []
    },
    {
      "cell_type": "code",
      "metadata": {
        "colab": {
          "base_uri": "https://localhost:8080/",
          "height": 0
        },
        "id": "vFlvl8On-gEk",
        "outputId": "2ab10381-3858-4e08-b683-e6c946dbe046"
      },
      "source": [
        "train_enc1 = Data_en(train, tknizer_ita, tknizer_eng, 20)\n",
        "test_ecn1  = Data_en(validation, tknizer_ita, tknizer_eng, 20)\n",
        "\n",
        "train_load = LoadData(train_enc1, batch_size=1024)\n",
        "test_load = LoadData(test_ecn1, batch_size=1024)\n",
        "\n",
        "\n",
        "print(train_load[0][0][0].shape, train_load[0][0][1].shape, train_load[0][1].shape)"
      ],
      "execution_count": 26,
      "outputs": [
        {
          "output_type": "stream",
          "name": "stdout",
          "text": [
            "(1024, 20) (1024, 20) (1024, 20)\n"
          ]
        }
      ]
    },
    {
      "cell_type": "code",
      "metadata": {
        "colab": {
          "base_uri": "https://localhost:8080/"
        },
        "id": "LOPM-5-KJVbE",
        "outputId": "671f222f-5a6f-4553-c7e9-2fca6c78adce"
      },
      "source": [
        "import os\n",
        "import datetime\n",
        "%load_ext tensorboard\n",
        "logdir1 = os.path.join(\"logs1\", datetime.datetime.now().strftime(\"%Y%m%d-%H%M%S\"))\n",
        "tensorboard_callback1= tf.keras.callbacks.TensorBoard(logdir1, histogram_freq=1)\n",
        "\n",
        "model1=Encoder_decoder(enc_inputs_len=20,dec_inputs_len=20,ed_vocab_size=vocab_size_eng,batch_size=1024)\n",
        "model1.compile(optimizer=tf.keras.optimizers.Adam(),loss='sparse_categorical_crossentropy')\n",
        "train_steps1=train.shape[0]//1024\n",
        "valid_steps1=validation.shape[0]//1024\n",
        "model1.fit(train_load, steps_per_epoch=train_steps1, epochs=35, validation_data=train_load, validation_steps=valid_steps1,callbacks=[tensorboard_callback1])"
      ],
      "execution_count": null,
      "outputs": [
        {
          "output_type": "stream",
          "text": [
            "Epoch 1/35\n",
            "274/274 [==============================] - 88s 295ms/step - loss: 1.8474 - val_loss: 1.6069\n",
            "Epoch 2/35\n",
            "274/274 [==============================] - 71s 259ms/step - loss: 1.4759 - val_loss: 1.3590\n",
            "Epoch 3/35\n",
            "274/274 [==============================] - 71s 258ms/step - loss: 1.2951 - val_loss: 1.2232\n",
            "Epoch 4/35\n",
            "274/274 [==============================] - 82s 298ms/step - loss: 1.1606 - val_loss: 1.0843\n",
            "Epoch 5/35\n",
            "274/274 [==============================] - 72s 263ms/step - loss: 1.0302 - val_loss: 0.9641\n",
            "Epoch 6/35\n",
            "274/274 [==============================] - 71s 260ms/step - loss: 0.9232 - val_loss: 0.8679\n",
            "Epoch 7/35\n",
            "274/274 [==============================] - 71s 260ms/step - loss: 0.8336 - val_loss: 0.7833\n",
            "Epoch 8/35\n",
            "274/274 [==============================] - 71s 259ms/step - loss: 0.7548 - val_loss: 0.7082\n",
            "Epoch 9/35\n",
            "274/274 [==============================] - 82s 298ms/step - loss: 0.6850 - val_loss: 0.6437\n",
            "Epoch 10/35\n",
            "274/274 [==============================] - 72s 261ms/step - loss: 0.6234 - val_loss: 0.5839\n",
            "Epoch 11/35\n",
            "274/274 [==============================] - 71s 259ms/step - loss: 0.5681 - val_loss: 0.5316\n",
            "Epoch 12/35\n",
            "274/274 [==============================] - 71s 259ms/step - loss: 0.5192 - val_loss: 0.4848\n",
            "Epoch 13/35\n",
            "274/274 [==============================] - 82s 298ms/step - loss: 0.4747 - val_loss: 0.4442\n",
            "Epoch 14/35\n",
            "274/274 [==============================] - 72s 262ms/step - loss: 0.4353 - val_loss: 0.4045\n",
            "Epoch 15/35\n",
            "274/274 [==============================] - 82s 298ms/step - loss: 0.4000 - val_loss: 0.3722\n",
            "Epoch 16/35\n",
            "274/274 [==============================] - 72s 261ms/step - loss: 0.3689 - val_loss: 0.3453\n",
            "Epoch 17/35\n",
            "274/274 [==============================] - 71s 258ms/step - loss: 0.3408 - val_loss: 0.3170\n",
            "Epoch 18/35\n",
            "274/274 [==============================] - 71s 260ms/step - loss: 0.3161 - val_loss: 0.2933\n",
            "Epoch 19/35\n",
            "274/274 [==============================] - 71s 260ms/step - loss: 0.2938 - val_loss: 0.2752\n",
            "Epoch 20/35\n",
            "274/274 [==============================] - 71s 259ms/step - loss: 0.2740 - val_loss: 0.2551\n",
            "Epoch 21/35\n",
            "274/274 [==============================] - 71s 260ms/step - loss: 0.2560 - val_loss: 0.2399\n",
            "Epoch 22/35\n",
            "274/274 [==============================] - 72s 263ms/step - loss: 0.2398 - val_loss: 0.2227\n",
            "Epoch 23/35\n",
            "274/274 [==============================] - 71s 260ms/step - loss: 0.2253 - val_loss: 0.2090\n",
            "Epoch 24/35\n",
            "274/274 [==============================] - 71s 259ms/step - loss: 0.2118 - val_loss: 0.1983\n",
            "Epoch 25/35\n",
            "274/274 [==============================] - 71s 260ms/step - loss: 0.2002 - val_loss: 0.1870\n",
            "Epoch 26/35\n",
            "274/274 [==============================] - 71s 260ms/step - loss: 0.1894 - val_loss: 0.1768\n",
            "Epoch 27/35\n",
            "274/274 [==============================] - 72s 262ms/step - loss: 0.1792 - val_loss: 0.1670\n",
            "Epoch 28/35\n",
            "274/274 [==============================] - 82s 298ms/step - loss: 0.1700 - val_loss: 0.1576\n",
            "Epoch 29/35\n",
            "274/274 [==============================] - 72s 262ms/step - loss: 0.1617 - val_loss: 0.1496\n",
            "Epoch 30/35\n",
            "274/274 [==============================] - 71s 259ms/step - loss: 0.1538 - val_loss: 0.1436\n",
            "Epoch 31/35\n",
            "274/274 [==============================] - 82s 298ms/step - loss: 0.1470 - val_loss: 0.1363\n",
            "Epoch 32/35\n",
            "274/274 [==============================] - 72s 262ms/step - loss: 0.1402 - val_loss: 0.1311\n",
            "Epoch 33/35\n",
            "274/274 [==============================] - 71s 260ms/step - loss: 0.1339 - val_loss: 0.1253\n",
            "Epoch 34/35\n",
            "274/274 [==============================] - 71s 260ms/step - loss: 0.1279 - val_loss: 0.1197\n",
            "Epoch 35/35\n",
            "274/274 [==============================] - 82s 298ms/step - loss: 0.1225 - val_loss: 0.1144\n"
          ],
          "name": "stdout"
        },
        {
          "output_type": "execute_result",
          "data": {
            "text/plain": [
              "<tensorflow.python.keras.callbacks.History at 0x7f22bb973990>"
            ]
          },
          "metadata": {
            "tags": []
          },
          "execution_count": 27
        }
      ]
    },
    {
      "cell_type": "code",
      "metadata": {
        "colab": {
          "base_uri": "https://localhost:8080/"
        },
        "id": "GnQcAMhrpDj2",
        "outputId": "eda5bd2f-503b-4264-f401-cb0e6cdd3220"
      },
      "source": [
        "model1.summary()"
      ],
      "execution_count": null,
      "outputs": [
        {
          "output_type": "stream",
          "text": [
            "Model: \"encoder_decoder\"\n",
            "_________________________________________________________________\n",
            "Layer (type)                 Output Shape              Param #   \n",
            "=================================================================\n",
            "encoder_1 (Encoder)          multiple                  1643268   \n",
            "_________________________________________________________________\n",
            "decoder_1 (Decoder)          multiple                  1673368   \n",
            "_________________________________________________________________\n",
            "dense (Dense)                multiple                  3360789   \n",
            "=================================================================\n",
            "Total params: 6,677,425\n",
            "Trainable params: 6,677,425\n",
            "Non-trainable params: 0\n",
            "_________________________________________________________________\n"
          ],
          "name": "stdout"
        }
      ]
    },
    {
      "cell_type": "code",
      "metadata": {
        "id": "ZZ0Xio6wpGVL"
      },
      "source": [
        "model1.save_weights('encoder_decoder_task1.h5')"
      ],
      "execution_count": null,
      "outputs": []
    },
    {
      "cell_type": "code",
      "metadata": {
        "id": "hKJP9CkHthjF"
      },
      "source": [
        "def predict(input_sentence):\n",
        "\n",
        "  in_enc_ita=tknizer_ita.texts_to_sequences([input_sentence])\n",
        "  in_pad_seq_ita=pad_sequences(in_enc_ita,maxlen=20,padding='post',truncating='post',dtype='int32')\n",
        "  embed_pred=model1.layers[0].embedding(in_pad_seq_ita)\n",
        "  enc_ouput1,enc_state_h1,enc_state_c1=model1.layers[0].lstm(embed_pred)\n",
        "  in_indexs_2d=tknizer_eng.word_index['<start>']\n",
        "  in_indexs_2d=np.reshape(in_indexs_2d,(1,1))\n",
        "  att=np.zeros((20,20))\n",
        "  input_list=[]\n",
        "  for j in range(20):\n",
        "    out_pred,dec_state_h1,dec_state_c1=model1.layers[1](in_indexs_2d,[enc_state_h1,enc_state_c1])\n",
        "    dense_out1=model1.layers[2](out_pred)\n",
        "    enc_state_h1=dec_state_h1\n",
        "    enc_state_c1=dec_state_c1\n",
        "    out_index=np.argmax(dense_out1)\n",
        "    in_indexs_2d=np.reshape(out_index,(1,1))\n",
        "    input_list.append(tknizer_eng.index_word[out_index])\n",
        "    if tknizer_eng.index_word[out_index]=='<end>':\n",
        "      break\n",
        "  return ' '.join(input_list)\n"
      ],
      "execution_count": 27,
      "outputs": []
    },
    {
      "cell_type": "code",
      "metadata": {
        "id": "996pFO8BLOfG"
      },
      "source": [
        "# Predict on 1000 random sentences on test data and calculate the average BLEU score of these sentences.\n",
        "# https://www.nltk.org/_modules/nltk/translate/bleu_score.html"
      ],
      "execution_count": null,
      "outputs": []
    },
    {
      "cell_type": "code",
      "metadata": {
        "colab": {
          "base_uri": "https://localhost:8080/"
        },
        "id": "WP3A7cr3_OCd",
        "outputId": "9cf74cba-bff5-44e0-d893-b68b1e8a2765"
      },
      "source": [
        "ita=validation['italian'].values[:1000]\n",
        "eng=validation['english_out'].values[:1000]\n",
        "blue=[]\n",
        "for i in range(1000):\n",
        "  pred_bl=predict(ita[i])\n",
        "  blue.append(bleu_score.sentence_bleu(eng[i],pred_bl))\n"
      ],
      "execution_count": null,
      "outputs": [
        {
          "output_type": "stream",
          "text": [
            "/usr/local/lib/python3.7/dist-packages/nltk/translate/bleu_score.py:490: UserWarning: \n",
            "Corpus/Sentence contains 0 counts of 2-gram overlaps.\n",
            "BLEU scores might be undesirable; use SmoothingFunction().\n",
            "  warnings.warn(_msg)\n"
          ],
          "name": "stderr"
        }
      ]
    },
    {
      "cell_type": "code",
      "metadata": {
        "colab": {
          "base_uri": "https://localhost:8080/"
        },
        "id": "C0xt6Oi2_WCK",
        "outputId": "f1cf4a09-085e-426d-aa3b-12df27debad3"
      },
      "source": [
        "print(f'Bleu_score: {np.average(blue)}')"
      ],
      "execution_count": null,
      "outputs": [
        {
          "output_type": "stream",
          "text": [
            "Bleu_score: 0.8361471092114097\n"
          ],
          "name": "stdout"
        }
      ]
    },
    {
      "cell_type": "markdown",
      "metadata": {
        "id": "CxWFDxZXLOfJ"
      },
      "source": [
        " "
      ]
    },
    {
      "cell_type": "markdown",
      "metadata": {
        "id": "yZhX3K9GLOfJ"
      },
      "source": [
        "## Task -2: Including Attention mechanisum"
      ]
    },
    {
      "cell_type": "markdown",
      "metadata": {
        "id": "Q3d7GeBMGbsJ"
      },
      "source": [
        "1. Use the preprocessed data from Task-1\n",
        "\n",
        "2. You have to implement an Encoder and Decoder architecture with  \n",
        "attention as discussed in the reference notebook.\n",
        "\n",
        "    * Encoder   - with 1 layer LSTM <br>\n",
        "    * Decoder   - with 1 layer LSTM<br>\n",
        "    * attention -  (Please refer the <a href= 'https://drive.google.com/file/d/1z_bnc-3aubKawbR6q8wyI6Mh5ho2R1aZ/view?usp=sharing'>**reference notebook**</a> to know more about the attention mechanism.)\n",
        "3. In Global attention, we have 3 types of scoring functions(as discussed in the reference notebook).\n",
        " As a part of this assignment **you need to create 3 models for each scoring function**\n",
        "<img src='https://i.imgur.com/iD2jZo3.png'>\n",
        "\n",
        "    * In model 1 you need to implemnt \"dot\" score function\n",
        "    * In model 2 you need to implemnt \"general\" score function\n",
        "    * In model 3 you need to implemnt \"concat\" score function.<br>\n",
        "    \n",
        " **Please do add the markdown titles for each model so that we can have a better look at the code and verify.**\n",
        "4. It is mandatory to train the model with simple model.fit() only, Donot train the model with custom GradientTape()\n",
        "\n",
        "5. Using attention weights, you can plot the attention plots, \n",
        "please plot those for 2-3 examples. You can check about those in <a href=\"https://www.tensorflow.org/tutorials/text/nmt_with_attention#translate\">this</a>\n",
        "\n",
        "6. The attention layer has to be written by yourself only. \n",
        "The main objective of this assignment is to read and implement a paper on yourself so please do it yourself.  \n",
        "\n",
        "7. Please implement the class **onestepdecoder** as mentioned in the assignment instructions.\n",
        "\n",
        "8. You can use any tf.Keras highlevel API's to build and train the models. \n",
        " Check the reference notebook for better understanding.\n",
        "\n",
        "9. Use BLEU score as metric to evaluate your model. You can use any loss function you need.\n",
        "\n",
        "10. You have to use Tensorboard to plot the Graph, Scores and histograms of gradients. \n",
        "\n",
        "11. Resources:\n",
        "    a. Check the reference notebook\n",
        "    b. <a href=\"https://jalammar.github.io/visualizing-neural-machine-translation-mechanics-of-seq2seq-models-with-attention/\">Resource 1</a>\n",
        "    c. <a href=\"https://www.tensorflow.org/tutorials/text/nmt_with_attention\">Resource 2</a>\n",
        "    d. <a href=\"https://stackoverflow.com/questions/44238154/what-is-the-difference-between-luong-attention-and-bahdanau-attention#:~:text=Luong%20attention%20used%20top%20hidden,hidden%20state%20at%20time%20t.\">Resource 3</a>\n",
        "    "
      ]
    },
    {
      "cell_type": "markdown",
      "metadata": {
        "id": "PU4KIsGxLOfK"
      },
      "source": [
        "### <font color='blue'>**Implement custom encoder decoder and attention layers**</font>"
      ]
    },
    {
      "cell_type": "markdown",
      "metadata": {
        "id": "TMm3ADQDLOfK"
      },
      "source": [
        "<font color='blue'>**Encoder**</font>"
      ]
    },
    {
      "cell_type": "code",
      "metadata": {
        "id": "cdVfhBgmZoaf"
      },
      "source": [
        "class Encoder(tf.keras.layers.Layer):\n",
        "    def __init__(self, enc_vocab_size, embedding_dim, enc_lstm_size, input_length):\n",
        "        super().__init__()\n",
        "        self.enc_vocab_size = enc_vocab_size\n",
        "        self.embedding_dim = embedding_dim\n",
        "        self.input_length = input_length\n",
        "        self.encoder_output=0\n",
        "        self.lstm_size=enc_lstm_size\n",
        "        self.lstm_output = 0\n",
        "        self.enc_state_h=0\n",
        "        self.enc_state_c=0\n",
        "      \n",
        "        \n",
        "    def build(self, input_shape):\n",
        "        self.embedding = Embedding(input_dim=self.enc_vocab_size, output_dim=self.embedding_dim, input_length=self.input_length,\n",
        "                           mask_zero=True, name=\"embedding_layer_encoder\")\n",
        "        self.lstm = LSTM(self.lstm_size, return_state=True, return_sequences=True, name=\"Encoder_LSTM\")\n",
        "        \n",
        "    def call(self, input_sentances, training=True):\n",
        "        input_embedd= self.embedding(input_sentances)\n",
        "        self.encoder_output, self.enc_state_h,self.enc_state_c = self.lstm(input_embedd)\n",
        "        return self.encoder_output, self.enc_state_h,self.enc_state_c\n",
        "\n",
        "    def initialize_states(self, batch_size):\n",
        "\n",
        "        lstm_h=tf.zeros(shape=[batch_size,self.lstm_size])\n",
        "        lstm_c=tf.zeros(shape=[batch_size,self.lstm_size])\n",
        "\n",
        "        return [lstm_h,lstm_c]"
      ],
      "execution_count": 28,
      "outputs": []
    },
    {
      "cell_type": "markdown",
      "metadata": {
        "id": "4ub9aN-hK244"
      },
      "source": [
        "<font color='cyan'>**Grader function - 1**</font>"
      ]
    },
    {
      "cell_type": "code",
      "metadata": {
        "colab": {
          "base_uri": "https://localhost:8080/",
          "height": 0
        },
        "id": "wRoe65b9LB0D",
        "outputId": "e4e8b881-da93-4c48-aa18-03ebccd7691f"
      },
      "source": [
        "def grader_check_encoder():\n",
        "    \n",
        "    '''\n",
        "        vocab-size: Unique words of the input language,\n",
        "        embedding_size: output embedding dimension for each word after embedding layer,\n",
        "        lstm_size: Number of lstm units in encoder,\n",
        "        input_length: Length of the input sentence,\n",
        "        batch_size\n",
        "    '''\n",
        "    \n",
        "    vocab_size=10\n",
        "    embedding_size=20\n",
        "    lstm_size=32\n",
        "    input_length=10\n",
        "    batch_size=16\n",
        "    encoder=Encoder(vocab_size,embedding_size,lstm_size,input_length)\n",
        "    input_sequence=tf.random.uniform(shape=[batch_size,input_length],maxval=vocab_size,minval=0,dtype=tf.int32)\n",
        "    initial_state=encoder.initialize_states(batch_size)\n",
        "    encoder_output,state_h,state_c=encoder(input_sequence,initial_state)\n",
        "    \n",
        "    assert(encoder_output.shape==(batch_size,input_length,lstm_size) and state_h.shape==(batch_size,lstm_size) and state_c.shape==(batch_size,lstm_size))\n",
        "    return True\n",
        "print(grader_check_encoder())"
      ],
      "execution_count": 29,
      "outputs": [
        {
          "output_type": "stream",
          "name": "stdout",
          "text": [
            "True\n"
          ]
        }
      ]
    },
    {
      "cell_type": "markdown",
      "metadata": {
        "id": "lXn278lhLYRM"
      },
      "source": [
        "<font color='blue'>**Attention**</font>"
      ]
    },
    {
      "cell_type": "code",
      "metadata": {
        "id": "jFoDGWQLxE81"
      },
      "source": [
        "class Attention(tf.keras.layers.Layer):\n",
        "  '''\n",
        "    Class the calculates score based on the scoring_function using Bahdanu attention mechanism.\n",
        "  '''\n",
        "  def __init__(self,scoring_function, att_units):\n",
        "    super().__init__()\n",
        "    self.scoring_function=scoring_function\n",
        "    # Please go through the reference notebook and research paper to complete the scoring functions\n",
        "    if self.scoring_function=='dot':\n",
        "      # Intialize variables needed for Dot score function here\n",
        "      self.att_units=att_units\n",
        "      self.softmax1=tf.keras.layers.Softmax(axis=1)\n",
        "    if scoring_function == 'general':\n",
        "      # Intialize variables needed for General score function here\n",
        "      # Initializing the weights\n",
        "      self.dense1=tf.keras.layers.Dense(self.att_units)\n",
        "      self.softmax1=tf.keras.layers.Softmax(axis=1)\n",
        "    elif scoring_function == 'concat':\n",
        "      # Intialize variables needed for Concat score function here\n",
        "      self.dense2=tf.keras.layers.Dense(self.att_units,activation='tanh')\n",
        "      self.dense_att=tf.keras.layers.Dense(1)\n",
        "      self.softmax1=tf.keras.layers.Softmax(axis=1)\n",
        "  \n",
        "  \n",
        "  def call(self,decoder_hidden_state,encoder_output):\n",
        "    '''\n",
        "      Attention mechanism takes two inputs current step -- decoder_hidden_state and all the encoder_outputs.\n",
        "      * Based on the scoring function we will find the score or similarity between decoder_hidden_state and encoder_output.\n",
        "        Multiply the score function with your encoder_outputs to get the context vector.\n",
        "        Function returns context vector and attention weights(softmax - scores)\n",
        "    '''\n",
        "    if self.scoring_function == 'dot':\n",
        "        \n",
        "        # Implement Dot score function here\n",
        "        d1=tf.keras.layers.Dot(axes=(2,1))([encoder_output,tf.reshape(decoder_hidden_state,\n",
        "                                                  [decoder_hidden_state.shape[0],decoder_hidden_state.shape[1],1])])\n",
        "        d1_softmax=self.softmax1(d1)\n",
        "        \n",
        "        \n",
        "        #Find the context vector\n",
        "        d2=tf.keras.layers.Dot(axes=(1,2))([d1_softmax,\n",
        "                                                  tf.reshape(encoder_output,shape=[encoder_output.shape[0],encoder_output.shape[2],encoder_output.shape[1]])])\n",
        "        dt_dot=tf.reshape(d2,shape=[d2.shape[0],d2.shape[2]])\n",
        "        return dt_dot,d1_softmax\n",
        "\n",
        "    elif self.scoring_function == 'general':\n",
        "        # Implement General score function here\n",
        "        d1=self.dense1(decoder_hidden_state)\n",
        "        dt3=tf.reshape(d1,[d1.shape[0],d1.shape[1],1])\n",
        "        dt_general=tf.keras.layers.Dot(axes=(2,1))([encoder_output,dt3])\n",
        "        weights_general=self.softmax1(tf.cast(dt_general,dtype='float32'))\n",
        "        \n",
        "\n",
        "        # Find the context vector\n",
        "        d2=tf.keras.layers.Dot(axes=(1,2))([weights_general,tf.reshape(encoder_output,shape=[encoder_output.shape[0],encoder_output.shape[2],encoder_output.shape[1]])])\n",
        "        vector_general=tf.reshape(d2,shape=[d2.shape[0],d2.shape[2]])\n",
        "        return vector_general,weights_general\n",
        "\n",
        "                                                                             \n",
        "\n",
        "    elif self.scoring_function == 'concat':\n",
        "        \n",
        "        # Implementing concat function\n",
        "        dense_concat=self.dense_att(self.dense2(encoder_output)+tf.expand_dims(self.dense2(decoder_hidden_state),1))\n",
        "        softmax_concat=self.softmax1(tf.cast(dense_concat,dtype='float32'))#Finding the attention weight\n",
        "\n",
        "        #Finding the context vector\n",
        "\n",
        "        d2=tf.keras.layers.Dot(axes=(1,2))([softmax_concat,\n",
        "                                                  tf.reshape(encoder_output,shape=[encoder_output.shape[0],encoder_output.shape[2],encoder_output.shape[1]])])\n",
        "        vector_concat=tf.reshape(d2,shape=[d2.shape[0],d2.shape[2]])\n",
        "        return vector_concat,softmax_concat\n"
      ],
      "execution_count": 30,
      "outputs": []
    },
    {
      "cell_type": "markdown",
      "metadata": {
        "id": "ExQDlxI9LuqK"
      },
      "source": [
        "<font color='cyan'>**Grader function - 2**</font>"
      ]
    },
    {
      "cell_type": "code",
      "metadata": {
        "colab": {
          "base_uri": "https://localhost:8080/"
        },
        "id": "51x50h_TLrl9",
        "outputId": "2e472142-ec90-4499-f0d8-6382062dce84"
      },
      "source": [
        "def grader_check_attention(scoring_fun):\n",
        "    \n",
        "    ''' \n",
        "        att_units: Used in matrix multiplications for scoring functions,\n",
        "        input_length: Length of the input sentence,\n",
        "        batch_size\n",
        "    '''\n",
        "    \n",
        "    input_length=10\n",
        "    batch_size=16\n",
        "    att_units=32\n",
        "    \n",
        "    state_h=tf.random.uniform(shape=[batch_size,att_units])\n",
        "    encoder_output=tf.random.uniform(shape=[batch_size,input_length,att_units])\n",
        "    attention=Attention(scoring_fun,att_units)\n",
        "    context_vector,attention_weights=attention(state_h,encoder_output)\n",
        "    assert(context_vector.shape==(batch_size,att_units) and attention_weights.shape==(batch_size,input_length,1))\n",
        "    return True\n",
        "print(grader_check_attention('dot'))\n",
        "print(grader_check_attention('general'))\n",
        "print(grader_check_attention('concat'))"
      ],
      "execution_count": null,
      "outputs": [
        {
          "output_type": "stream",
          "text": [
            "True\n",
            "True\n",
            "True\n"
          ],
          "name": "stdout"
        }
      ]
    },
    {
      "cell_type": "markdown",
      "metadata": {
        "id": "ic-FNEbfL2DN"
      },
      "source": [
        "<font color='blue'>**OneStepDecoder**</font>"
      ]
    },
    {
      "cell_type": "code",
      "metadata": {
        "id": "r8QqGj6MnO90"
      },
      "source": [
        "class OneStepDecoder(tf.keras.Model):\n",
        "  def __init__(self,tar_vocab_size, embedding_dim, input_length, dec_units ,score_fun ,att_units):\n",
        "      super().__init__()\n",
        "\n",
        "      self.tar_vocab_size=tar_vocab_size\n",
        "      self.embedding_dim=embedding_dim\n",
        "      self.input_length=input_length\n",
        "      self.dec_units=dec_units\n",
        "      self.score_fun=score_fun\n",
        "      self.att_units=att_units\n",
        "\n",
        "      self.embed_osd=Embedding(input_dim = self.tar_vocab_size, output_dim = self.embedding_dim,\n",
        "                                      input_length = self.input_length, name=\"embedding_layer_osd\")\n",
        "      self.lst_osd= LSTM(self.dec_units, return_sequences=True,return_state=True,name=\"osd_LSTM\")\n",
        "       \n",
        "      self.att_osd = Attention(self.score_fun,self.att_units)\n",
        "\n",
        "      self.dense_osd = Dense(self.tar_vocab_size)\n",
        "    \n",
        "  def call(self,input_to_decoder, encoder_output, state_h,state_c):\n",
        "\n",
        "    vec_osd,wgt=self.att_osd(state_h,encoder_output)\n",
        "    embed_target=self.embed_osd(input_to_decoder)\n",
        "    t=tf.expand_dims(vec_osd,1)\n",
        "    cnct=tf.concat([embed_target,t],axis=2)\n",
        "    output_osd,hid_osd,cell_osd=self.lst_osd(cnct)\n",
        "    output_osd=tf.reshape(output_osd,(-1,output_osd.shape[2]))\n",
        "    output_osd=self.dense_osd(output_osd)\n",
        "    return output_osd,hid_osd,cell_osd,wgt,vec_osd\n"
      ],
      "execution_count": null,
      "outputs": []
    },
    {
      "cell_type": "markdown",
      "metadata": {
        "id": "R_I8I4EIMAXq"
      },
      "source": [
        "<font color='cyan'>**Grader function - 3**</font>"
      ]
    },
    {
      "cell_type": "code",
      "metadata": {
        "colab": {
          "base_uri": "https://localhost:8080/"
        },
        "id": "uLEXhChnMC1k",
        "outputId": "32a48db4-6f79-4846-fbc5-946761426261"
      },
      "source": [
        "def grader_onestepdecoder(score_fun):\n",
        "    \n",
        "    '''\n",
        "        tar_vocab_size: Unique words of the target language,\n",
        "        embedding_dim: output embedding dimension for each word after embedding layer,\n",
        "        dec_units: Number of lstm units in decoder,\n",
        "        att_units: Used in matrix multiplications for scoring functions in attention class,\n",
        "        input_length: Length of the target sentence,\n",
        "        batch_size\n",
        "        \n",
        "    \n",
        "    '''\n",
        "    \n",
        "    tar_vocab_size=13 \n",
        "    embedding_dim=12 \n",
        "    input_length=10\n",
        "    dec_units=16 \n",
        "    att_units=16\n",
        "    batch_size=32\n",
        "    onestepdecoder=OneStepDecoder(tar_vocab_size, embedding_dim, input_length, dec_units ,score_fun ,att_units)\n",
        "    input_to_decoder=tf.random.uniform(shape=(batch_size,1),maxval=10,minval=0,dtype=tf.int32)\n",
        "    encoder_output=tf.random.uniform(shape=[batch_size,input_length,dec_units])\n",
        "    state_h=tf.random.uniform(shape=[batch_size,dec_units])\n",
        "    state_c=tf.random.uniform(shape=[batch_size,dec_units])\n",
        "    output,state_h,state_c,attention_weights,context_vector=onestepdecoder(input_to_decoder,encoder_output,state_h,state_c)\n",
        "    assert(output.shape==(batch_size,tar_vocab_size))\n",
        "    assert(state_h.shape==(batch_size,dec_units))\n",
        "    assert(state_c.shape==(batch_size,dec_units))\n",
        "    assert(attention_weights.shape==(batch_size,input_length,1))\n",
        "    assert(context_vector.shape==(batch_size,dec_units))\n",
        "    return True\n",
        "    \n",
        "print(grader_onestepdecoder('dot'))\n",
        "print(grader_onestepdecoder('general'))\n",
        "print(grader_onestepdecoder('concat'))\n",
        "    "
      ],
      "execution_count": null,
      "outputs": [
        {
          "output_type": "stream",
          "text": [
            "True\n",
            "True\n",
            "True\n"
          ],
          "name": "stdout"
        }
      ]
    },
    {
      "cell_type": "markdown",
      "metadata": {
        "id": "6FHrurjUMGAi"
      },
      "source": [
        "<font color='blue'>**Decoder**</font>"
      ]
    },
    {
      "cell_type": "code",
      "metadata": {
        "id": "syrQHkPtq0bs"
      },
      "source": [
        "class Decoder(tf.keras.Model):\n",
        "    def __init__(self,out_vocab_size, embedding_dim, input_length, dec_units ,score_fun ,att_units):\n",
        "      #Intialize necessary variables and create an object from the class onestepdecoder\n",
        "      super().__init__()\n",
        "      self.out_vocab_size=out_vocab_size\n",
        "      self.embedding_dim= embedding_dim\n",
        "      self.input_length =input_length\n",
        "      self.dec_units=dec_units\n",
        "      self.score_fun=score_fun\n",
        "      self.att_units=att_units\n",
        "      self.onestep_decoder = OneStepDecoder(self.out_vocab_size,self.embedding_dim,self.input_length,self.dec_units, self.score_fun,self.att_units)\n",
        "    \n",
        "    def call(self, input_to_decoder,encoder_output,decoder_hidden_state,decoder_cell_state ):\n",
        "      var=tf.TensorArray(tf.float32,size=len(input_to_decoder[0]),name='tensor_deocoder')\n",
        "      for i in range(len(input_to_decoder[0])):\n",
        "        out1,hid_dec,cell_dec,wgt_dec,cnv_vec=self.onestep_decoder(input_to_decoder[:,i:i+1],encoder_output,decoder_hidden_state,decoder_cell_state)\n",
        "        var=var.write(i,out1)\n",
        "      var=tf.transpose(var.stack(),[1,0,2])\n",
        "      return var"
      ],
      "execution_count": 31,
      "outputs": []
    },
    {
      "cell_type": "markdown",
      "metadata": {
        "id": "FxrL-P8bMJH6"
      },
      "source": [
        "<font color='cyan'>**Grader function - 4**</font>"
      ]
    },
    {
      "cell_type": "code",
      "metadata": {
        "colab": {
          "base_uri": "https://localhost:8080/"
        },
        "id": "rtbx6onFMJXb",
        "outputId": "2ec7beb9-9d26-4d49-8f80-f4c938fd2dca"
      },
      "source": [
        "def grader_decoder(score_fun):\n",
        "    \n",
        "    '''\n",
        "        out_vocab_size: Unique words of the target language,\n",
        "        embedding_dim: output embedding dimension for each word after embedding layer,\n",
        "        dec_units: Number of lstm units in decoder,\n",
        "        att_units: Used in matrix multiplications for scoring functions in attention class,\n",
        "        input_length: Length of the target sentence,\n",
        "        batch_size\n",
        "        \n",
        "    \n",
        "    '''\n",
        "    \n",
        "    out_vocab_size=13 \n",
        "    embedding_dim=12 \n",
        "    input_length=11\n",
        "    dec_units=16 \n",
        "    att_units=16\n",
        "    batch_size=32\n",
        "    \n",
        "    target_sentences=tf.random.uniform(shape=(batch_size,input_length),maxval=10,minval=0,dtype=tf.int32)\n",
        "    encoder_output=tf.random.uniform(shape=[batch_size,input_length,dec_units])\n",
        "    state_h=tf.random.uniform(shape=[batch_size,dec_units])\n",
        "    state_c=tf.random.uniform(shape=[batch_size,dec_units])\n",
        "    \n",
        "    decoder=Decoder(out_vocab_size, embedding_dim, input_length, dec_units ,score_fun ,att_units)\n",
        "    output=decoder(target_sentences,encoder_output, state_h, state_c)\n",
        "    assert(output.shape==(batch_size,input_length,out_vocab_size))\n",
        "    return True\n",
        "print(grader_decoder('dot'))\n",
        "print(grader_decoder('general'))\n",
        "print(grader_decoder('concat'))"
      ],
      "execution_count": null,
      "outputs": [
        {
          "output_type": "stream",
          "text": [
            "True\n",
            "True\n",
            "True\n"
          ],
          "name": "stdout"
        }
      ]
    },
    {
      "cell_type": "markdown",
      "metadata": {
        "id": "fC1T1EOoMTqC"
      },
      "source": [
        "<font color='blue'>**Encoder Decoder model**</font>"
      ]
    },
    {
      "cell_type": "code",
      "metadata": {
        "id": "4jpfikYfZkaj"
      },
      "source": [
        "class encoder_decoder(tf.keras.Model):\n",
        "    \n",
        "    def __init__(self, input_len,output_len, score_ecm,att_units,batch_size):\n",
        "        \n",
        "        #Create encoder object\n",
        "        #Create decoder object\n",
        "        #Intialize Dense layer(out_vocab_size) with activation='softmax'\n",
        "\n",
        "        super().__init__()\n",
        "        self.input_len=input_len\n",
        "        self.output_len=output_len\n",
        "        self.score_ecm=score_ecm\n",
        "        self.batch_size=batch_size\n",
        "        self.att_units=att_units\n",
        "        self.enc=Encoder(enc_vocab_size=vocab_size_ita+1,embedding_dim=50,input_length=input_len,enc_lstm_size=256)\n",
        "        self.dec=Decoder(out_vocab_size=vocab_size_eng+1,embedding_dim=100,dec_units=256,input_length=self.output_len,score_fun=self.score_ecm,att_units=self.att_units)\n",
        "        self.enc_state1,self.encoder_state2=self.enc.initialize_states(self.batch_size)\n",
        "    \n",
        "    \n",
        "    def call(self,input_ed):\n",
        "      enc_output,enc_hid,enc_cell=self.enc(input_ed[0],[self.enc_state1,self.encoder_state2])\n",
        "      decoder_output=self.dec(input_ed[1],enc_output,enc_hid,enc_cell)\n",
        "\n",
        "      return decoder_output\n",
        "        "
      ],
      "execution_count": 32,
      "outputs": []
    },
    {
      "cell_type": "markdown",
      "metadata": {
        "id": "WVRxB-FDMJWL"
      },
      "source": [
        "<font color='blue'>**Custom loss function**</font>"
      ]
    },
    {
      "cell_type": "code",
      "metadata": {
        "id": "SfZET6OSxou8"
      },
      "source": [
        "loss1= tf.keras.losses.SparseCategoricalCrossentropy(from_logits=True, reduction='none')\n",
        "def custom_lossfunction(targets,logits):\n",
        "\n",
        "  # Custom loss function that will not consider the loss for padded zeros.\n",
        "  # Refer https://www.tensorflow.org/tutorials/text/nmt_with_attention#define_the_optimizer_and_the_loss_function\n",
        "  \n",
        "  target=tf.math.logical_not(tf.math.equal(targets,0))\n",
        "  loss2=loss1(targets,logits)\n",
        "  #masking loss for padding\n",
        "  \n",
        "  target=tf.cast(target,dtype=loss2.dtype)\n",
        "  loss2*=target\n",
        "\n",
        "  return tf.reduce_mean(loss2)"
      ],
      "execution_count": null,
      "outputs": []
    },
    {
      "cell_type": "markdown",
      "metadata": {
        "id": "2QlbWAqNNlqe"
      },
      "source": [
        "<font color='blue'>**Training**</font>"
      ]
    },
    {
      "cell_type": "markdown",
      "metadata": {
        "id": "wqtZUQF2NuZE"
      },
      "source": [
        "Implement dot function here."
      ]
    },
    {
      "cell_type": "code",
      "metadata": {
        "id": "Bnt1Xrluxz3i"
      },
      "source": [
        "class Data_en:\n",
        "    def __init__(self, data2, tknizer_ita, tknizer_eng, len_data):\n",
        "        self.in_encoder = data2['italian'].values\n",
        "        self.in_decoder = data2['english_inp'].values\n",
        "        self.out_decoder = data2['english_out'].values\n",
        "        self.tknizer_eng = tknizer_eng\n",
        "        self.tknizer_ita = tknizer_ita\n",
        "        self.len_data = len_data\n",
        "\n",
        "    def __getitem__(self, i):\n",
        "        self.encoder_seq = self.tknizer_ita.texts_to_sequences([self.in_encoder[i]]) # need to pass list of values\n",
        "        self.decoder_inp_seq = self.tknizer_eng.texts_to_sequences([self.in_decoder[i]])\n",
        "        self.decoder_out_seq = self.tknizer_eng.texts_to_sequences([self.out_decoder[i]])\n",
        "\n",
        "        self.encoder_seq = pad_sequences(self.encoder_seq, maxlen=self.len_data, dtype='int32', padding='post')\n",
        "        self.decoder_inp_seq = pad_sequences(self.decoder_inp_seq, maxlen=self.len_data, dtype='int32', padding='post')\n",
        "        self.decoder_out_seq = pad_sequences(self.decoder_out_seq, maxlen=self.len_data, dtype='int32', padding='post')\n",
        "        return self.encoder_seq, self.decoder_inp_seq, self.decoder_out_seq\n",
        "\n",
        "    def __len__(self): # your model.fit_gen requires this function\n",
        "        return len(self.in_encoder)\n",
        "\n",
        "    \n",
        "class LoadData(tf.keras.utils.Sequence):    \n",
        "    def __init__(self, data_lan, batch_size=1):\n",
        "        self.data_lan = data_lan\n",
        "        self.batch_size = batch_size\n",
        "        self.index_data = np.arange(len(self.data_lan.in_encoder))\n",
        "\n",
        "\n",
        "    def __getitem__(self, i):\n",
        "        a = i * self.batch_size\n",
        "        b = (i + 1) * self.batch_size\n",
        "        data_val = []\n",
        "        for j in range(a, b):\n",
        "            data_val.append(self.data_lan[j])\n",
        "\n",
        "        batch_data = [np.squeeze(np.stack(samples, axis=1), axis=0) for samples in zip(*data_val)]\n",
        "        # we are creating data like ([italian, english_inp], english_out) these are already converted into seq\n",
        "        return tuple([[batch_data[0],batch_data[1]],batch_data[2]])\n",
        "\n",
        "    def __len__(self):  # your model.fit_gen requires this function\n",
        "        return len(self.index_data) // self.batch_size\n",
        "\n",
        "    def on_epoch_end(self):\n",
        "        self.index_data = np.random.permutation(self.index_data)"
      ],
      "execution_count": null,
      "outputs": []
    },
    {
      "cell_type": "code",
      "metadata": {
        "colab": {
          "base_uri": "https://localhost:8080/"
        },
        "id": "WHejgRtSx6uB",
        "outputId": "73e7dd1a-a0e7-49df-c6f4-6b9512f77a37"
      },
      "source": [
        "train_enc1 = Data_en(train, tknizer_ita, tknizer_eng, 20)\n",
        "test_ecn1  = Data_en(validation, tknizer_ita, tknizer_eng, 20)\n",
        "\n",
        "train_load = LoadData(train_enc1, batch_size=1024)\n",
        "test_load = LoadData(test_ecn1, batch_size=1024)\n",
        "\n",
        "\n",
        "print(train_load[0][0][0].shape, train_load[0][0][1].shape, train_load[0][1].shape)"
      ],
      "execution_count": null,
      "outputs": [
        {
          "output_type": "stream",
          "text": [
            "(1024, 20) (1024, 20) (1024, 20)\n"
          ],
          "name": "stdout"
        }
      ]
    },
    {
      "cell_type": "code",
      "metadata": {
        "id": "OvSu7Cgep761"
      },
      "source": [
        "tf.config.run_functions_eagerly(False)"
      ],
      "execution_count": null,
      "outputs": []
    },
    {
      "cell_type": "code",
      "metadata": {
        "colab": {
          "base_uri": "https://localhost:8080/"
        },
        "id": "5bzlbIavhs0F",
        "outputId": "b8d7d64e-5f5c-4010-c1ef-dacf66ad371b"
      },
      "source": [
        "%load_ext tensorboard"
      ],
      "execution_count": null,
      "outputs": [
        {
          "output_type": "stream",
          "text": [
            "The tensorboard extension is already loaded. To reload it, use:\n",
            "  %reload_ext tensorboard\n"
          ],
          "name": "stdout"
        }
      ]
    },
    {
      "cell_type": "code",
      "metadata": {
        "id": "JZ-InzoIyBfP"
      },
      "source": [
        "import os\n",
        "import datetime\n",
        "logdir2 = os.path.join(\"logs2\", datetime.datetime.now().strftime(\"%Y%m%d-%H%M%S\"))\n",
        "tensorboard_callback2= tf.keras.callbacks.TensorBoard(logdir1, histogram_freq=1)"
      ],
      "execution_count": null,
      "outputs": []
    },
    {
      "cell_type": "code",
      "metadata": {
        "id": "OVWZraF9tzVK"
      },
      "source": [
        "model2 = encoder_decoder(input_len=20,output_len=20,score_ecm='dot',att_units=64,batch_size=1024)\n",
        "model2.compile(optimizer=tf.keras.optimizers.Adam(),loss='sparse_categorical_crossentropy')\n",
        "train_steps2=train.shape[0]//1024\n",
        "valid_steps2=validation.shape[0]//1024"
      ],
      "execution_count": null,
      "outputs": []
    },
    {
      "cell_type": "code",
      "metadata": {
        "colab": {
          "base_uri": "https://localhost:8080/"
        },
        "id": "9BqHntxXomk2",
        "outputId": "1fe42c45-b96c-4ea2-fd37-058e344d9a2d"
      },
      "source": [
        "model2.fit(train_load, steps_per_epoch=train_steps2, epochs=20, validation_data=train_load, validation_steps=valid_steps2,callbacks=[tensorboard_callback2])"
      ],
      "execution_count": null,
      "outputs": [
        {
          "output_type": "stream",
          "text": [
            "Epoch 1/20\n",
            "274/274 [==============================] - 180s 634ms/step - loss: 2.2795 - val_loss: 2.2086\n",
            "Epoch 2/20\n",
            "274/274 [==============================] - 161s 588ms/step - loss: 2.0567 - val_loss: 2.0998\n",
            "Epoch 3/20\n",
            "274/274 [==============================] - 168s 615ms/step - loss: 1.9903 - val_loss: 2.1099\n",
            "Epoch 4/20\n",
            "274/274 [==============================] - 161s 588ms/step - loss: 1.9337 - val_loss: 2.1169\n",
            "Epoch 5/20\n",
            "274/274 [==============================] - 170s 620ms/step - loss: 1.9559 - val_loss: 2.1088\n",
            "Epoch 6/20\n",
            "274/274 [==============================] - 161s 588ms/step - loss: 1.9167 - val_loss: 2.1478\n",
            "Epoch 7/20\n",
            "274/274 [==============================] - 169s 616ms/step - loss: 1.8669 - val_loss: 2.1071\n",
            "Epoch 8/20\n",
            "274/274 [==============================] - 169s 618ms/step - loss: 1.8785 - val_loss: 2.2818\n",
            "Epoch 9/20\n",
            "274/274 [==============================] - 169s 616ms/step - loss: 2.0188 - val_loss: 2.2763\n",
            "Epoch 10/20\n",
            "274/274 [==============================] - 169s 617ms/step - loss: 1.8769 - val_loss: 2.1157\n",
            "Epoch 11/20\n",
            "274/274 [==============================] - 169s 617ms/step - loss: 1.8726 - val_loss: 2.1139\n",
            "Epoch 12/20\n",
            "274/274 [==============================] - 162s 591ms/step - loss: 1.9173 - val_loss: 2.1381\n",
            "Epoch 13/20\n",
            "274/274 [==============================] - 169s 617ms/step - loss: 1.8898 - val_loss: 2.1971\n",
            "Epoch 14/20\n",
            "274/274 [==============================] - 169s 615ms/step - loss: 1.8776 - val_loss: 2.1445\n",
            "Epoch 15/20\n",
            "274/274 [==============================] - 160s 584ms/step - loss: 1.8333 - val_loss: 2.1426\n",
            "Epoch 16/20\n",
            "274/274 [==============================] - 161s 587ms/step - loss: 1.8258 - val_loss: 2.2093\n",
            "Epoch 17/20\n",
            "274/274 [==============================] - 159s 580ms/step - loss: 1.8800 - val_loss: 2.1719\n",
            "Epoch 18/20\n",
            "274/274 [==============================] - 169s 618ms/step - loss: 1.9721 - val_loss: 2.2018\n",
            "Epoch 19/20\n",
            "274/274 [==============================] - 160s 584ms/step - loss: 1.8712 - val_loss: 2.1326\n",
            "Epoch 20/20\n",
            "274/274 [==============================] - 161s 585ms/step - loss: 1.9660 - val_loss: 2.1298\n"
          ],
          "name": "stdout"
        },
        {
          "output_type": "execute_result",
          "data": {
            "text/plain": [
              "<tensorflow.python.keras.callbacks.History at 0x7f22ba618b90>"
            ]
          },
          "metadata": {
            "tags": []
          },
          "execution_count": 56
        }
      ]
    },
    {
      "cell_type": "code",
      "metadata": {
        "id": "oLxgpthTyDiU",
        "colab": {
          "base_uri": "https://localhost:8080/"
        },
        "outputId": "165e98cc-330a-43f2-d76e-41c4cfd39d9f"
      },
      "source": [
        "model2.summary()"
      ],
      "execution_count": null,
      "outputs": [
        {
          "output_type": "stream",
          "text": [
            "Model: \"encoder_decoder_1\"\n",
            "_________________________________________________________________\n",
            "Layer (type)                 Output Shape              Param #   \n",
            "=================================================================\n",
            "encoder_3 (Encoder)          multiple                  1643268   \n",
            "_________________________________________________________________\n",
            "decoder_5 (Decoder)          multiple                  5296558   \n",
            "=================================================================\n",
            "Total params: 6,939,826\n",
            "Trainable params: 6,939,826\n",
            "Non-trainable params: 0\n",
            "_________________________________________________________________\n"
          ],
          "name": "stdout"
        }
      ]
    },
    {
      "cell_type": "code",
      "metadata": {
        "id": "o1tYMGQYyDap"
      },
      "source": [
        "model2.save_weights('seq_dot_model2.h5')"
      ],
      "execution_count": null,
      "outputs": []
    },
    {
      "cell_type": "markdown",
      "metadata": {
        "id": "6DpC9zlzMcXp"
      },
      "source": [
        "## <font color='blue'>**Inference**</font>"
      ]
    },
    {
      "cell_type": "markdown",
      "metadata": {
        "id": "Z5NhESYyMW_t"
      },
      "source": [
        "<font color='blue'>**Plot attention weights**</font>"
      ]
    },
    {
      "cell_type": "code",
      "metadata": {
        "id": "2ACiW1nryJB0"
      },
      "source": [
        "#Refer: https://www.tensorflow.org/tutorials/text/nmt_with_attention#translate\n",
        "import matplotlib.ticker as ticker\n",
        "def plot_attention(attention,act,pred):\n",
        "  \n",
        "  pred,_=predict(act,plot_t2='dot')\n",
        "  plot_att=attention[:len(pred.split(' ')),len(act.split(' '))]\n",
        "  fig,ax = plt.subplots(figsize=(8,6))\n",
        "  ax.matshow(attention,cmap='Blues')\n",
        "  ax.set_xticklabels([''] + act.split(' '), rotation=90)\n",
        "  ax.set_yticklabels([''] + pred.split(' '))\n",
        "  plt.show() \n",
        "  "
      ],
      "execution_count": null,
      "outputs": []
    },
    {
      "cell_type": "markdown",
      "metadata": {
        "id": "e1IhdBrgQYJr"
      },
      "source": [
        "<font color='blue'>**Predict the sentence translation**</font>"
      ]
    },
    {
      "cell_type": "code",
      "metadata": {
        "id": "mR3rkRujyQoQ"
      },
      "source": [
        "def predict(input_sentence,plot_t2):\n",
        "\n",
        "  sentences=[]\n",
        "  in_enc_ita=tknizer_ita.texts_to_sequences([input_sentence])\n",
        "  in_pad_seq_ita=pad_sequences(in_enc_ita,maxlen=20,padding='post',truncating='post',dtype='int32')\n",
        "  state_enc1=model2.layers[0].initialize_states(in_pad_seq_ita.shape[0])\n",
        "  enc_ouput1,enc_state_h1,enc_state_c1=model2.layers[0](in_pad_seq_ita,state_enc1)\n",
        "  in_indexs=tknizer_eng.word_index['<start>']\n",
        "  in_indexs=tf.expand_dims([in_indexs],0)\n",
        "  att=np.zeros((20,20))\n",
        "  input_list=[]\n",
        "  for j in range(in_pad_seq_ita.shape[1]):\n",
        "    out_pred,dec_state_h1,dec_state_c1,w,cv=model2.layers[1].onestep_decoder(in_indexs,enc_ouput1,enc_state_h1,enc_state_c1)\n",
        "    dense_out1=model2.layers[1](in_indexs,enc_ouput1,enc_state_h1,enc_state_c1)\n",
        "    out_index=np.argmax(dense_out1)\n",
        "    wt=tf.reshape(w,(-1, ))\n",
        "    att[j]=wt.numpy()\n",
        "    in_indexs=np.reshape(out_index,(1,1))\n",
        "    input_list.append(tknizer_eng.index_word[out_index])\n",
        "    if tknizer_eng.index_word[out_index]=='<end>':\n",
        "      break\n",
        "  return ' '.join(input_list),att\n"
      ],
      "execution_count": null,
      "outputs": []
    },
    {
      "cell_type": "markdown",
      "metadata": {
        "id": "usOCV-6Pkk5X"
      },
      "source": [
        "**ATTETNTION PLOTS**"
      ]
    },
    {
      "cell_type": "code",
      "metadata": {
        "colab": {
          "base_uri": "https://localhost:8080/",
          "height": 374
        },
        "id": "pQeh7GV2j6W_",
        "outputId": "a3a080c4-0cd6-4107-dc7f-4a50317ae48b"
      },
      "source": [
        "pred,attention=predict('1 2 3 4','dot')\n",
        "plot_attention(attention,'1 2 3 4',pred)"
      ],
      "execution_count": null,
      "outputs": [
        {
          "output_type": "display_data",
          "data": {
            "image/png": "[encoded data removed]",
            "text/plain": [
              "<Figure size 576x432 with 1 Axes>"
            ]
          },
          "metadata": {
            "tags": [],
            "needs_background": "light"
          }
        }
      ]
    },
    {
      "cell_type": "markdown",
      "metadata": {
        "id": "jmxIVOOQPWMu"
      },
      "source": [
        "<font color='blue'>**Calculate BLEU score**</font>"
      ]
    },
    {
      "cell_type": "code",
      "metadata": {
        "id": "0iHiLdROM23l"
      },
      "source": [
        "# #Create an object of your custom model.\n",
        "# #Compile and train your model on dot scoring function.\n",
        "# # Visualize few sentences randomly in Test data\n",
        "# # Predict on 1000 random sentences on test data and calculate the average BLEU score of these sentences.\n",
        "# # https://www.nltk.org/_modules/nltk/translate/bleu_score.html\n",
        "\n",
        "# #Sample example\n",
        "# import nltk.translate.bleu_score as bleu\n",
        "# reference = ['i am groot'.split(),] # the original\n",
        "# translation = 'it is ship'.split() # trasilated using model\n",
        "# print('BLEU score: {}'.format(bleu.sentence_bleu(reference, translation)))"
      ],
      "execution_count": null,
      "outputs": []
    },
    {
      "cell_type": "code",
      "metadata": {
        "id": "iZr7et_Eycbt",
        "colab": {
          "base_uri": "https://localhost:8080/"
        },
        "outputId": "607a3d48-1726-441c-cb0d-7d5bc34e9711"
      },
      "source": [
        "ita=validation['italian'].values[:1000]\n",
        "eng=validation['english_out'].values[:1000]\n",
        "blue=[]\n",
        "for i in range(1000):\n",
        "  pred_bl,att_bl=predict(ita[i],'dot')\n",
        "  blue.append(bleu_score.sentence_bleu(eng[i],pred_bl))\n",
        "print(f'Bleu_score: {np.average(blue)}')"
      ],
      "execution_count": null,
      "outputs": [
        {
          "output_type": "stream",
          "text": [
            "/usr/local/lib/python3.7/dist-packages/nltk/translate/bleu_score.py:490: UserWarning: \n",
            "Corpus/Sentence contains 0 counts of 2-gram overlaps.\n",
            "BLEU scores might be undesirable; use SmoothingFunction().\n",
            "  warnings.warn(_msg)\n"
          ],
          "name": "stderr"
        },
        {
          "output_type": "stream",
          "text": [
            "Bleu_score: 0.8246226835237551\n"
          ],
          "name": "stdout"
        }
      ]
    },
    {
      "cell_type": "code",
      "metadata": {
        "id": "hvOcIxOHyhyh",
        "colab": {
          "base_uri": "https://localhost:8080/"
        },
        "outputId": "5eba5a23-8d7d-4d2c-a093-707027f461c2"
      },
      "source": [
        "print(f'Bleu Score: {np.average(blue)}')"
      ],
      "execution_count": null,
      "outputs": [
        {
          "output_type": "stream",
          "text": [
            "Bleu Score: 0.8246226835237551\n"
          ],
          "name": "stdout"
        }
      ]
    },
    {
      "cell_type": "markdown",
      "metadata": {
        "id": "SWg2ferDQvT3"
      },
      "source": [
        "<font color='blue'>**Repeat the same steps for General scoring function**</font>"
      ]
    },
    {
      "cell_type": "code",
      "metadata": {
        "id": "4Rh9_w79M5JO"
      },
      "source": [
        "#Compile and train your model on general scoring function.\n",
        "# Visualize few sentences randomly in Test data\n",
        "# Predict on 1000 random sentences on test data and calculate the average BLEU score of these sentences.\n",
        "# https://www.nltk.org/_modules/nltk/translate/bleu_score.html"
      ],
      "execution_count": null,
      "outputs": []
    },
    {
      "cell_type": "code",
      "metadata": {
        "id": "-Xf850agyw4V"
      },
      "source": [
        "logdir3 = os.path.join(\"logs3\", datetime.datetime.now().strftime(\"%Y%m%d-%H%M%S\"))\n",
        "tensorboard_callback3= tf.keras.callbacks.TensorBoard(logdir1, histogram_freq=1)"
      ],
      "execution_count": null,
      "outputs": []
    },
    {
      "cell_type": "code",
      "metadata": {
        "id": "AKqBjrlOLNRn"
      },
      "source": [
        "model3 = encoder_decoder(input_len=20,output_len=20,score_ecm='general',att_units=64,batch_size=1024)\n",
        "model3.compile(optimizer=tf.keras.optimizers.Adam(),loss='sparse_categorical_crossentropy')\n",
        "train_steps3=train.shape[0]//1024\n",
        "valid_steps3=validation.shape[0]//1024"
      ],
      "execution_count": null,
      "outputs": []
    },
    {
      "cell_type": "code",
      "metadata": {
        "colab": {
          "base_uri": "https://localhost:8080/"
        },
        "id": "xTrju7uJLUNx",
        "outputId": "83cbf78f-df76-41be-ace7-ef6926d55164"
      },
      "source": [
        "model3.fit(train_load, steps_per_epoch=train_steps3, epochs=20, validation_data=train_load, validation_steps=valid_steps3,callbacks=[tensorboard_callback3])"
      ],
      "execution_count": null,
      "outputs": [
        {
          "output_type": "stream",
          "text": [
            "Epoch 1/20\n",
            "274/274 [==============================] - 170s 602ms/step - loss: 2.3031 - val_loss: 2.2873\n",
            "Epoch 2/20\n",
            "274/274 [==============================] - 161s 587ms/step - loss: 2.0556 - val_loss: 2.0834\n",
            "Epoch 3/20\n",
            "274/274 [==============================] - 169s 616ms/step - loss: 1.9527 - val_loss: 2.0697\n",
            "Epoch 4/20\n",
            "274/274 [==============================] - 161s 588ms/step - loss: 1.9027 - val_loss: 2.0626\n",
            "Epoch 5/20\n",
            "274/274 [==============================] - 169s 618ms/step - loss: 1.8735 - val_loss: 2.0988\n",
            "Epoch 6/20\n",
            "274/274 [==============================] - 163s 593ms/step - loss: 1.9859 - val_loss: 2.0837\n",
            "Epoch 7/20\n",
            "274/274 [==============================] - 161s 588ms/step - loss: 2.0781 - val_loss: 2.1448\n",
            "Epoch 8/20\n",
            "274/274 [==============================] - 169s 616ms/step - loss: 1.9704 - val_loss: 2.0715\n",
            "Epoch 9/20\n",
            "274/274 [==============================] - 169s 618ms/step - loss: 1.8394 - val_loss: 2.0547\n",
            "Epoch 10/20\n",
            "274/274 [==============================] - 172s 627ms/step - loss: 1.8451 - val_loss: 2.0558\n",
            "Epoch 11/20\n",
            "274/274 [==============================] - 162s 591ms/step - loss: 1.8470 - val_loss: 2.0613\n",
            "Epoch 12/20\n",
            "274/274 [==============================] - 161s 588ms/step - loss: 1.8629 - val_loss: 2.0650\n",
            "Epoch 13/20\n",
            "274/274 [==============================] - 162s 593ms/step - loss: 1.7991 - val_loss: 2.0666\n",
            "Epoch 14/20\n",
            "274/274 [==============================] - 171s 624ms/step - loss: 1.8351 - val_loss: 2.0584\n",
            "Epoch 15/20\n",
            "274/274 [==============================] - 162s 590ms/step - loss: 1.7662 - val_loss: 2.0611\n",
            "Epoch 16/20\n",
            "274/274 [==============================] - 171s 623ms/step - loss: 1.7702 - val_loss: 2.0745\n",
            "Epoch 17/20\n",
            "274/274 [==============================] - 162s 590ms/step - loss: 1.8164 - val_loss: 2.1583\n",
            "Epoch 18/20\n",
            "274/274 [==============================] - 163s 593ms/step - loss: 1.7527 - val_loss: 2.0482\n",
            "Epoch 19/20\n",
            "274/274 [==============================] - 171s 623ms/step - loss: 1.7108 - val_loss: 2.1021\n",
            "Epoch 20/20\n",
            "274/274 [==============================] - 170s 620ms/step - loss: 1.7891 - val_loss: 2.0725\n"
          ],
          "name": "stdout"
        },
        {
          "output_type": "execute_result",
          "data": {
            "text/plain": [
              "<tensorflow.python.keras.callbacks.History at 0x7f22ccba2c90>"
            ]
          },
          "metadata": {
            "tags": []
          },
          "execution_count": 69
        }
      ]
    },
    {
      "cell_type": "code",
      "metadata": {
        "id": "Jgo0iw8uy1UJ",
        "colab": {
          "base_uri": "https://localhost:8080/"
        },
        "outputId": "8ccbfd0e-93e9-483b-8643-519d5fa0f5db"
      },
      "source": [
        "model3.summary()"
      ],
      "execution_count": null,
      "outputs": [
        {
          "output_type": "stream",
          "text": [
            "Model: \"encoder_decoder_2\"\n",
            "_________________________________________________________________\n",
            "Layer (type)                 Output Shape              Param #   \n",
            "=================================================================\n",
            "encoder_4 (Encoder)          multiple                  1643268   \n",
            "_________________________________________________________________\n",
            "decoder_6 (Decoder)          multiple                  5296558   \n",
            "=================================================================\n",
            "Total params: 6,939,826\n",
            "Trainable params: 6,939,826\n",
            "Non-trainable params: 0\n",
            "_________________________________________________________________\n"
          ],
          "name": "stdout"
        }
      ]
    },
    {
      "cell_type": "code",
      "metadata": {
        "id": "5ua_fmKWrrbw"
      },
      "source": [
        "%tensorboard --logdir logs3"
      ],
      "execution_count": null,
      "outputs": []
    },
    {
      "cell_type": "code",
      "metadata": {
        "id": "2GqDAETzy0x2"
      },
      "source": [
        "import matplotlib.ticker as ticker\n",
        "def plot_attention(attention,act,pred):\n",
        "  #Refer: https://www.tensorflow.org/tutorials/text/nmt_with_attention#translate\n",
        "\n",
        "  pred,_=predict(act,plot_t2='general')\n",
        "  plot_att=attention[:len(pred.split(' ')),len(act.split(' '))]\n",
        "  fig,ax = plt.subplots(figsize=(8,6))\n",
        "  ax.matshow(attention,cmap='Blues')\n",
        "  ax.set_xticklabels([''] + act.split(' '), rotation=90)\n",
        "  ax.set_yticklabels([''] + pred.split(' '))\n",
        "  plt.show() \n",
        "  "
      ],
      "execution_count": null,
      "outputs": []
    },
    {
      "cell_type": "code",
      "metadata": {
        "colab": {
          "base_uri": "https://localhost:8080/",
          "height": 374
        },
        "id": "-GW2mb4cYneK",
        "outputId": "c1651131-6d8c-4f60-8182-e10e872ac58c"
      },
      "source": [
        "pred,attention=predict('1 2 3 4','general')\n",
        "plot_attention(attention,'1 2 3 4',pred)"
      ],
      "execution_count": null,
      "outputs": [
        {
          "output_type": "display_data",
          "data": {
            "image/png": "[encoded data removed]",
            "text/plain": [
              "<Figure size 576x432 with 1 Axes>"
            ]
          },
          "metadata": {
            "tags": [],
            "needs_background": "light"
          }
        }
      ]
    },
    {
      "cell_type": "code",
      "metadata": {
        "id": "7PxiQuDby41L"
      },
      "source": [
        "def predict(input_sentence,plot_t2):\n",
        "\n",
        "  sentences=[]\n",
        "  in_enc_ita=tknizer_ita.texts_to_sequences([input_sentence])\n",
        "  in_pad_seq_ita=pad_sequences(in_enc_ita,maxlen=20,padding='post',truncating='post',dtype='int32')\n",
        "  state_enc1=model3.layers[0].initialize_states(in_pad_seq_ita.shape[0])\n",
        "  enc_ouput1,enc_state_h1,enc_state_c1=model3.layers[0](in_pad_seq_ita,state_enc1)\n",
        "  in_indexs=tknizer_eng.word_index['<start>']\n",
        "  in_indexs=tf.expand_dims([in_indexs],0)\n",
        "  att=np.zeros((20,20))\n",
        "  input_list=[]\n",
        "  for j in range(in_pad_seq_ita.shape[1]):\n",
        "    out_pred,dec_state_h1,dec_state_c1,w,cv=model3.layers[1].onestep_decoder(in_indexs,enc_ouput1,enc_state_h1,enc_state_c1)\n",
        "    dense_out1=model3.layers[1](in_indexs,enc_ouput1,enc_state_h1,enc_state_c1)\n",
        "    out_index=np.argmax(dense_out1)\n",
        "    wt=tf.reshape(w,(-1, ))\n",
        "    att[j]=wt.numpy()\n",
        "    in_indexs=np.reshape(out_index,(1,1))\n",
        "    input_list.append(tknizer_eng.index_word[out_index])\n",
        "    if tknizer_eng.index_word[out_index]=='<end>':\n",
        "      break\n",
        "  return ' '.join(input_list),att\n"
      ],
      "execution_count": null,
      "outputs": []
    },
    {
      "cell_type": "code",
      "metadata": {
        "id": "NJIATpUjkPji",
        "colab": {
          "base_uri": "https://localhost:8080/"
        },
        "outputId": "abbf360c-3512-4aae-c928-eb4e339d79a5"
      },
      "source": [
        "ita=validation['italian'].values[:1000]\n",
        "eng=validation['english_out'].values[:1000]\n",
        "blue=[]\n",
        "for i in range(1000):\n",
        "  pred_bl,att_bl=predict(ita[i],'general')\n",
        "  blue.append(bleu_score.sentence_bleu(eng[i],pred_bl))"
      ],
      "execution_count": null,
      "outputs": [
        {
          "output_type": "stream",
          "text": [
            "/usr/local/lib/python3.7/dist-packages/nltk/translate/bleu_score.py:490: UserWarning: \n",
            "Corpus/Sentence contains 0 counts of 2-gram overlaps.\n",
            "BLEU scores might be undesirable; use SmoothingFunction().\n",
            "  warnings.warn(_msg)\n"
          ],
          "name": "stderr"
        }
      ]
    },
    {
      "cell_type": "code",
      "metadata": {
        "colab": {
          "base_uri": "https://localhost:8080/"
        },
        "id": "GCROC9kSY6cr",
        "outputId": "6a9b6aad-1377-480b-9e8e-90d682ebc17f"
      },
      "source": [
        "print(f'Bleu_score: {np.average(blue)}')"
      ],
      "execution_count": null,
      "outputs": [
        {
          "output_type": "stream",
          "text": [
            "Bleu_score: 0.8705149732218294\n"
          ],
          "name": "stdout"
        }
      ]
    },
    {
      "cell_type": "markdown",
      "metadata": {
        "id": "VB1jRUqZQ9AM"
      },
      "source": [
        "<font color='blue'>**Repeat the same steps for Concat scoring function**</font>"
      ]
    },
    {
      "cell_type": "code",
      "metadata": {
        "id": "1kN9ZWViQNMB"
      },
      "source": [
        "#Compile and train your model on concat scoring function.\n",
        "# Visualize few sentences randomly in Test data\n",
        "# Predict on 1000 random sentences on test data and calculate the average BLEU score of these sentences.\n",
        "# https://www.nltk.org/_modules/nltk/translate/bleu_score.html"
      ],
      "execution_count": null,
      "outputs": []
    },
    {
      "cell_type": "code",
      "metadata": {
        "id": "7NflanuazD-J"
      },
      "source": [
        "logdir4 = os.path.join(\"logs4\", datetime.datetime.now().strftime(\"%Y%m%d-%H%M%S\"))\n",
        "tensorboard_callback4= tf.keras.callbacks.TensorBoard(logdir1, histogram_freq=1)"
      ],
      "execution_count": null,
      "outputs": []
    },
    {
      "cell_type": "code",
      "metadata": {
        "id": "P6C2dI4lZSB4"
      },
      "source": [
        "model4 = encoder_decoder(input_len=20,output_len=20,score_ecm='concat',att_units=64,batch_size=1024)\n",
        "model4.compile(optimizer=tf.keras.optimizers.Adam(),loss='sparse_categorical_crossentropy')\n",
        "train_steps3=train.shape[0]//1024\n",
        "valid_steps3=validation.shape[0]//1024"
      ],
      "execution_count": null,
      "outputs": []
    },
    {
      "cell_type": "code",
      "metadata": {
        "id": "I7G4n0NUZVrL",
        "colab": {
          "base_uri": "https://localhost:8080/"
        },
        "outputId": "5e0c3e9c-a1c5-4c65-9712-a4c7dd623f04"
      },
      "source": [
        "model4.fit(train_load, steps_per_epoch=train_steps3, epochs=20, validation_data=train_load, validation_steps=valid_steps3,callbacks=[tensorboard_callback4])"
      ],
      "execution_count": null,
      "outputs": [
        {
          "output_type": "stream",
          "text": [
            "Epoch 1/20\n",
            "274/274 [==============================] - 187s 659ms/step - loss: 2.3358 - val_loss: 2.2126\n",
            "Epoch 2/20\n",
            "274/274 [==============================] - 184s 671ms/step - loss: 1.9897 - val_loss: 2.1768\n",
            "Epoch 3/20\n",
            "274/274 [==============================] - 183s 669ms/step - loss: 1.9982 - val_loss: 2.0986\n",
            "Epoch 4/20\n",
            "274/274 [==============================] - 183s 669ms/step - loss: 1.9786 - val_loss: 2.1295\n",
            "Epoch 5/20\n",
            "274/274 [==============================] - 184s 672ms/step - loss: 1.8858 - val_loss: 2.1411\n",
            "Epoch 6/20\n",
            "274/274 [==============================] - 177s 647ms/step - loss: 1.8964 - val_loss: 2.1293\n",
            "Epoch 7/20\n",
            "274/274 [==============================] - 176s 644ms/step - loss: 1.9157 - val_loss: 2.0868\n",
            "Epoch 8/20\n",
            "274/274 [==============================] - 176s 644ms/step - loss: 1.9690 - val_loss: 2.0937\n",
            "Epoch 9/20\n",
            "274/274 [==============================] - 182s 664ms/step - loss: 1.8564 - val_loss: 2.0578\n",
            "Epoch 10/20\n",
            "274/274 [==============================] - 184s 672ms/step - loss: 1.8450 - val_loss: 2.0726\n",
            "Epoch 11/20\n",
            "274/274 [==============================] - 183s 669ms/step - loss: 1.9960 - val_loss: 2.1153\n",
            "Epoch 12/20\n",
            "274/274 [==============================] - 182s 666ms/step - loss: 1.9400 - val_loss: 2.2613\n",
            "Epoch 13/20\n",
            "274/274 [==============================] - 183s 666ms/step - loss: 1.8545 - val_loss: 2.0846\n",
            "Epoch 14/20\n",
            "274/274 [==============================] - 183s 667ms/step - loss: 1.9415 - val_loss: 2.1064\n",
            "Epoch 15/20\n",
            "274/274 [==============================] - 183s 666ms/step - loss: 1.8513 - val_loss: 2.0828\n",
            "Epoch 16/20\n",
            "274/274 [==============================] - 176s 642ms/step - loss: 1.8114 - val_loss: 2.0665\n",
            "Epoch 17/20\n",
            "274/274 [==============================] - 183s 668ms/step - loss: 1.7609 - val_loss: 2.0643\n",
            "Epoch 18/20\n",
            "274/274 [==============================] - 176s 643ms/step - loss: 1.8445 - val_loss: 2.1551\n",
            "Epoch 19/20\n",
            "274/274 [==============================] - 181s 661ms/step - loss: 1.9178 - val_loss: 2.1682\n",
            "Epoch 20/20\n",
            "274/274 [==============================] - 183s 667ms/step - loss: 1.8762 - val_loss: 2.1254\n"
          ],
          "name": "stdout"
        },
        {
          "output_type": "execute_result",
          "data": {
            "text/plain": [
              "<tensorflow.python.keras.callbacks.History at 0x7f225cbfa790>"
            ]
          },
          "metadata": {
            "tags": []
          },
          "execution_count": 78
        }
      ]
    },
    {
      "cell_type": "code",
      "metadata": {
        "id": "MRbRL2K8zGxM",
        "colab": {
          "base_uri": "https://localhost:8080/"
        },
        "outputId": "3eeb0bc4-3132-4f45-9989-59451c0ffb0d"
      },
      "source": [
        "model4.summary()"
      ],
      "execution_count": null,
      "outputs": [
        {
          "output_type": "stream",
          "text": [
            "Model: \"encoder_decoder_3\"\n",
            "_________________________________________________________________\n",
            "Layer (type)                 Output Shape              Param #   \n",
            "=================================================================\n",
            "encoder_5 (Encoder)          multiple                  1643268   \n",
            "_________________________________________________________________\n",
            "decoder_7 (Decoder)          multiple                  5329519   \n",
            "=================================================================\n",
            "Total params: 6,972,787\n",
            "Trainable params: 6,972,787\n",
            "Non-trainable params: 0\n",
            "_________________________________________________________________\n"
          ],
          "name": "stdout"
        }
      ]
    },
    {
      "cell_type": "code",
      "metadata": {
        "id": "Ogp300Z0zLW5"
      },
      "source": [
        "model4.save_weights('concat_model4.h5')"
      ],
      "execution_count": null,
      "outputs": []
    },
    {
      "cell_type": "code",
      "metadata": {
        "id": "9l3J_rzbrw75"
      },
      "source": [
        "!kill 1690"
      ],
      "execution_count": null,
      "outputs": []
    },
    {
      "cell_type": "code",
      "metadata": {
        "id": "5LRVqM68Z9Fz"
      },
      "source": [
        "def predict(input_sentence,plot_t2):\n",
        "\n",
        "  sentences=[]\n",
        "  in_enc_ita=tknizer_ita.texts_to_sequences([input_sentence])\n",
        "  in_pad_seq_ita=pad_sequences(in_enc_ita,maxlen=20,padding='post',truncating='post',dtype='int32')\n",
        "  state_enc1=model4.layers[0].initialize_states(in_pad_seq_ita.shape[0])\n",
        "  enc_ouput1,enc_state_h1,enc_state_c1=model4.layers[0](in_pad_seq_ita,state_enc1)\n",
        "  in_indexs=tknizer_eng.word_index['<start>']\n",
        "  in_indexs=tf.expand_dims([in_indexs],0)\n",
        "  att=np.zeros((20,20))\n",
        "  input_list=[]\n",
        "  for j in range(in_pad_seq_ita.shape[1]):\n",
        "    out_pred,dec_state_h1,dec_state_c1,w,cv=model4.layers[1].onestep_decoder(in_indexs,enc_ouput1,enc_state_h1,enc_state_c1)\n",
        "    dense_out1=model4.layers[1](in_indexs,enc_ouput1,enc_state_h1,enc_state_c1)\n",
        "    out_index=np.argmax(dense_out1)\n",
        "    wt=tf.reshape(w,(-1, ))\n",
        "    att[j]=wt.numpy()\n",
        "    in_indexs=np.reshape(out_index,(1,1))\n",
        "    input_list.append(tknizer_eng.index_word[out_index])\n",
        "    if tknizer_eng.index_word[out_index]=='<end>':\n",
        "      break\n",
        "  return ' '.join(input_list),att\n"
      ],
      "execution_count": null,
      "outputs": []
    },
    {
      "cell_type": "code",
      "metadata": {
        "id": "P8-4XDE5zKrh"
      },
      "source": [
        "import matplotlib.ticker as ticker\n",
        "def plot_attention(attention,act,pred):\n",
        "  #Refer: https://www.tensorflow.org/tutorials/text/nmt_with_attention#translate\n",
        "\n",
        "  pred,_=predict(act,plot_t2='concat')\n",
        "  plot_att=attention[:len(pred.split(' ')),len(act.split(' '))]\n",
        "  fig,ax = plt.subplots(figsize=(8,6))\n",
        "  ax.matshow(attention,cmap='Blues')\n",
        "  ax.set_xticklabels([''] + act.split(' '), rotation=90)\n",
        "  ax.set_yticklabels([''] + pred.split(' '))\n",
        "  plt.show() \n",
        "  "
      ],
      "execution_count": null,
      "outputs": []
    },
    {
      "cell_type": "code",
      "metadata": {
        "id": "LLQlEDEGaI_j",
        "colab": {
          "base_uri": "https://localhost:8080/",
          "height": 374
        },
        "outputId": "21c843a9-f7a5-49b8-e3b2-c68f1a6cf61d"
      },
      "source": [
        "pred,attention=predict('1 2 3 4','concat')\n",
        "plot_attention(attention,'1 2 3 4',pred)"
      ],
      "execution_count": null,
      "outputs": [
        {
          "output_type": "display_data",
          "data": {
            "image/png": "[encoded data removed]",
            "text/plain": [
              "<Figure size 576x432 with 1 Axes>"
            ]
          },
          "metadata": {
            "tags": [],
            "needs_background": "light"
          }
        }
      ]
    },
    {
      "cell_type": "code",
      "metadata": {
        "id": "sbmmEMtazNyT",
        "colab": {
          "base_uri": "https://localhost:8080/"
        },
        "outputId": "5da81fa6-32ca-4580-d0c2-726e8030ae78"
      },
      "source": [
        "ita=validation['italian'].values[:1000]\n",
        "eng=validation['english_out'].values[:1000]\n",
        "blue=[]\n",
        "for i in range(1000):\n",
        "  pred_bl,att_bl=predict(ita[i],'concat')\n",
        "  blue.append(bleu_score.sentence_bleu(eng[i],pred_bl))"
      ],
      "execution_count": null,
      "outputs": [
        {
          "output_type": "stream",
          "text": [
            "/usr/local/lib/python3.7/dist-packages/nltk/translate/bleu_score.py:490: UserWarning: \n",
            "Corpus/Sentence contains 0 counts of 2-gram overlaps.\n",
            "BLEU scores might be undesirable; use SmoothingFunction().\n",
            "  warnings.warn(_msg)\n"
          ],
          "name": "stderr"
        }
      ]
    },
    {
      "cell_type": "code",
      "metadata": {
        "id": "y3JaPGSFZvZk",
        "colab": {
          "base_uri": "https://localhost:8080/"
        },
        "outputId": "dc0ef35e-b0d2-4355-ae84-efc2274200ae"
      },
      "source": [
        "print(f'Bleu_score: {np.average(blue)}')"
      ],
      "execution_count": null,
      "outputs": [
        {
          "output_type": "stream",
          "text": [
            "Bleu_score: 0.5097968335141377\n"
          ],
          "name": "stdout"
        }
      ]
    },
    {
      "cell_type": "code",
      "metadata": {
        "id": "Ff1lV0ITM6_p"
      },
      "source": [
        "# Write your observations on each of the scoring function"
      ],
      "execution_count": null,
      "outputs": []
    },
    {
      "cell_type": "markdown",
      "metadata": {
        "id": "GLo30Q7Istma"
      },
      "source": [
        "**OBSERVATIONS OF ATTENTION MECHANISM**"
      ]
    },
    {
      "cell_type": "code",
      "metadata": {
        "colab": {
          "base_uri": "https://localhost:8080/",
          "height": 0
        },
        "id": "cAybyE8LtS7R",
        "outputId": "048fcff5-ebd8-451b-cc0e-a71710b1b4b4"
      },
      "source": [
        "from prettytable import PrettyTable\n",
        "x = PrettyTable()\n",
        "x.field_names = [\"No\",\"Scoring Function\", \"Bleu Score\"]\n",
        "\n",
        "x.add_row([\"1\",\"Dot\",0.8325 ])\n",
        "x.add_row([\"2\",\"General\", 0.8614])\n",
        "x.add_row([\"3\",\"Concat \", 0.510])\n",
        "print(x)"
      ],
      "execution_count": 34,
      "outputs": [
        {
          "output_type": "stream",
          "name": "stdout",
          "text": [
            "+----+------------------+------------+\n",
            "| No | Scoring Function | Bleu Score |\n",
            "+----+------------------+------------+\n",
            "| 1  |       Dot        |   0.8325   |\n",
            "| 2  |     General      |   0.8614   |\n",
            "| 3  |     Concat       |    0.51    |\n",
            "+----+------------------+------------+\n"
          ]
        }
      ]
    }
  ]
}